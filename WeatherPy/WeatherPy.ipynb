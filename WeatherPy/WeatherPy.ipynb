{
 "cells": [
  {
   "cell_type": "markdown",
   "metadata": {},
   "source": [
    "# WeatherPy\n",
    "----\n",
    "\n",
    "#### Note\n",
    "* Instructions have been included for each segment. You do not have to follow them exactly, but they are included to help you think through the steps."
   ]
  },
  {
   "cell_type": "markdown",
   "metadata": {},
   "source": [
    "#3 Conclusions from Data Set\n",
    "1. We can see as the latitude increases that the temperature decreases or gets cooler\n",
    "2. As the distance from the equator increases the wind speed slowly increases\n",
    "3. Humidity seems to be constant/equal across different latitudes "
   ]
  },
  {
   "cell_type": "code",
   "execution_count": 239,
   "metadata": {
    "scrolled": true
   },
   "outputs": [],
   "source": [
    "# Dependencies and Setup\n",
    "import matplotlib.pyplot as plt\n",
    "import pandas as pd\n",
    "import numpy as np\n",
    "import requests\n",
    "import time\n",
    "import json\n",
    "from scipy.stats import linregress\n",
    "from scipy import stats\n",
    "\n",
    "# Import API key\n",
    "from api_keys import weather_api_key\n",
    "\n",
    "# Incorporated citipy to determine city based on latitude and longitude\n",
    "from citipy import citipy\n",
    "\n",
    "# Output File (CSV)\n",
    "output_data_file = \"output_data/cities.csv\"\n",
    "\n",
    "# Range of latitudes and longitudes\n",
    "lat_range = (-90, 90)\n",
    "lng_range = (-180, 180)"
   ]
  },
  {
   "cell_type": "markdown",
   "metadata": {},
   "source": [
    "## Generate Cities List"
   ]
  },
  {
   "cell_type": "code",
   "execution_count": 240,
   "metadata": {},
   "outputs": [
    {
     "data": {
      "text/plain": [
       "579"
      ]
     },
     "execution_count": 240,
     "metadata": {},
     "output_type": "execute_result"
    }
   ],
   "source": [
    "# List for holding lat_lngs and cities\n",
    "lat_lngs = []\n",
    "cities = []\n",
    "\n",
    "\n",
    "# Create a set of random lat and lng combinations\n",
    "lats = np.random.uniform(lat_range[0], lat_range[1], size=1500)\n",
    "lngs = np.random.uniform(lng_range[0], lng_range[1], size=1500)\n",
    "lat_lngs = zip(lats, lngs)\n",
    "\n",
    "# Identify nearest city for each lat, lng combination\n",
    "for lat_lng in lat_lngs:\n",
    "    city = citipy.nearest_city(lat_lng[0], lat_lng[1]).city_name\n",
    "    \n",
    "    # If the city is unique, then add it to a our cities list\n",
    "    if city not in cities:\n",
    "        cities.append(city)\n",
    "\n",
    "# Print the city count to confirm sufficient count\n",
    "len(cities)"
   ]
  },
  {
   "cell_type": "code",
   "execution_count": 241,
   "metadata": {},
   "outputs": [
    {
     "name": "stdout",
     "output_type": "stream",
     "text": [
      "{\n",
      "    \"coord\": {\n",
      "        \"lon\": 50.2788,\n",
      "        \"lat\": -14.9003\n",
      "    },\n",
      "    \"weather\": [\n",
      "        {\n",
      "            \"id\": 803,\n",
      "            \"main\": \"Clouds\",\n",
      "            \"description\": \"broken clouds\",\n",
      "            \"icon\": \"04n\"\n",
      "        }\n",
      "    ],\n",
      "    \"base\": \"stations\",\n",
      "    \"main\": {\n",
      "        \"temp\": 74.21,\n",
      "        \"feels_like\": 75.7,\n",
      "        \"temp_min\": 74.21,\n",
      "        \"temp_max\": 74.21,\n",
      "        \"pressure\": 1016,\n",
      "        \"humidity\": 93,\n",
      "        \"sea_level\": 1016,\n",
      "        \"grnd_level\": 1014\n",
      "    },\n",
      "    \"visibility\": 10000,\n",
      "    \"wind\": {\n",
      "        \"speed\": 2.51,\n",
      "        \"deg\": 211,\n",
      "        \"gust\": 2.77\n",
      "    },\n",
      "    \"clouds\": {\n",
      "        \"all\": 79\n",
      "    },\n",
      "    \"dt\": 1635037127,\n",
      "    \"sys\": {\n",
      "        \"country\": \"MG\",\n",
      "        \"sunrise\": 1635041203,\n",
      "        \"sunset\": 1635086350\n",
      "    },\n",
      "    \"timezone\": 10800,\n",
      "    \"id\": 1071296,\n",
      "    \"name\": \"Antalaha\",\n",
      "    \"cod\": 200\n",
      "}\n"
     ]
    }
   ],
   "source": [
    "url = \"http://api.openweathermap.org/data/2.5/weather?\"\n",
    "response_json = []\n",
    "units = \"imperial\"\n",
    "\n",
    "\n",
    "# Build partial query URL\n",
    "\n",
    "query_url = f\"{url}appid={weather_api_key}&units={units}&q=\"\n",
    "weather_response = requests.get(query_url + city)\n",
    "weather_json = weather_response.json()\n",
    "print(json.dumps(weather_json,indent=4))"
   ]
  },
  {
   "cell_type": "markdown",
   "metadata": {},
   "source": [
    "### Perform API Calls\n",
    "* Perform a weather check on each city using a series of successive API calls.\n",
    "* Include a print log of each city as it'sbeing processed (with the city number and city name). -->\n"
   ]
  },
  {
   "cell_type": "code",
   "execution_count": 242,
   "metadata": {
    "scrolled": false
   },
   "outputs": [
    {
     "name": "stdout",
     "output_type": "stream",
     "text": [
      "butaritari is on the list.\n",
      "bahia blanca is on the list.\n",
      "luderitz is on the list.\n",
      "The record does not exist\n",
      "maturin is on the list.\n",
      "wajid is on the list.\n",
      "barrow is on the list.\n",
      "port macquarie is on the list.\n",
      "champerico is on the list.\n",
      "dikson is on the list.\n",
      "The record does not exist\n",
      "pisco is on the list.\n",
      "belaya gora is on the list.\n",
      "cabo san lucas is on the list.\n",
      "teguldet is on the list.\n",
      "yagodnoye is on the list.\n",
      "saint-philippe is on the list.\n",
      "ribeira grande is on the list.\n",
      "puerto ayora is on the list.\n",
      "The record does not exist\n",
      "lavrentiya is on the list.\n",
      "bethel is on the list.\n",
      "The record does not exist\n",
      "port elizabeth is on the list.\n",
      "ushuaia is on the list.\n",
      "The record does not exist\n",
      "mesen is on the list.\n",
      "mataura is on the list.\n",
      "torbay is on the list.\n",
      "The record does not exist\n",
      "carnarvon is on the list.\n",
      "qaanaaq is on the list.\n",
      "vaini is on the list.\n",
      "khatanga is on the list.\n",
      "norman wells is on the list.\n",
      "tuktoyaktuk is on the list.\n",
      "hobart is on the list.\n",
      "ostrovnoy is on the list.\n",
      "athens is on the list.\n",
      "isangel is on the list.\n",
      "dunedin is on the list.\n",
      "uporovo is on the list.\n",
      "avarua is on the list.\n",
      "tasiilaq is on the list.\n",
      "The record does not exist\n",
      "rikitea is on the list.\n",
      "tamworth is on the list.\n",
      "busselton is on the list.\n",
      "kapaa is on the list.\n",
      "bredasdorp is on the list.\n",
      "bluff is on the list.\n",
      "morlaix is on the list.\n",
      "meadow lake is on the list.\n",
      "yellowknife is on the list.\n",
      "bathsheba is on the list.\n",
      "The record does not exist\n",
      "hamilton is on the list.\n",
      "camacha is on the list.\n",
      "george town is on the list.\n",
      "rocha is on the list.\n",
      "balkhash is on the list.\n",
      "lima is on the list.\n",
      "clyde river is on the list.\n",
      "mar del plata is on the list.\n",
      "sao jose da coroa grande is on the list.\n",
      "constitucion is on the list.\n",
      "red wing is on the list.\n",
      "gayny is on the list.\n",
      "new norfolk is on the list.\n",
      "nyurba is on the list.\n",
      "jamestown is on the list.\n",
      "sawakin is on the list.\n",
      "mount gambier is on the list.\n",
      "pangnirtung is on the list.\n",
      "ransang is on the list.\n",
      "pampa is on the list.\n",
      "pareora is on the list.\n",
      "bow island is on the list.\n",
      "arraial do cabo is on the list.\n",
      "hermanus is on the list.\n",
      "bonga is on the list.\n",
      "sangar is on the list.\n",
      "ulladulla is on the list.\n",
      "perevolotskiy is on the list.\n",
      "severo-kurilsk is on the list.\n",
      "vakhrushevo is on the list.\n",
      "The record does not exist\n",
      "The record does not exist\n",
      "nizhniy kuranakh is on the list.\n",
      "port alfred is on the list.\n",
      "chuy is on the list.\n",
      "albany is on the list.\n",
      "The record does not exist\n",
      "padang is on the list.\n",
      "ilulissat is on the list.\n",
      "bambous virieux is on the list.\n",
      "The record does not exist\n",
      "dalvik is on the list.\n",
      "kodiak is on the list.\n",
      "castro is on the list.\n",
      "east london is on the list.\n",
      "liverpool is on the list.\n",
      "provideniya is on the list.\n",
      "cabedelo is on the list.\n",
      "novoagansk is on the list.\n",
      "leningradskiy is on the list.\n",
      "kaitangata is on the list.\n",
      "kavieng is on the list.\n",
      "berlevag is on the list.\n",
      "yeppoon is on the list.\n",
      "zyryanka is on the list.\n",
      "dhidhdhoo is on the list.\n",
      "suluq is on the list.\n",
      "belmonte is on the list.\n",
      "slavutych is on the list.\n",
      "sao filipe is on the list.\n",
      "mount isa is on the list.\n",
      "takoradi is on the list.\n",
      "erzin is on the list.\n",
      "kawalu is on the list.\n",
      "caravelas is on the list.\n",
      "nago is on the list.\n",
      "faanui is on the list.\n",
      "kruisfontein is on the list.\n",
      "kathmandu is on the list.\n",
      "catio is on the list.\n",
      "saint-joseph is on the list.\n",
      "marigot is on the list.\n",
      "valparaiso is on the list.\n",
      "ivanovka is on the list.\n",
      "forest is on the list.\n",
      "The record does not exist\n",
      "baracoa is on the list.\n",
      "punta arenas is on the list.\n",
      "conceicao da barra is on the list.\n",
      "san quintin is on the list.\n",
      "mbanza-ngungu is on the list.\n",
      "hilo is on the list.\n",
      "broken hill is on the list.\n",
      "The record does not exist\n",
      "The record does not exist\n",
      "naze is on the list.\n",
      "russell is on the list.\n",
      "beitbridge is on the list.\n",
      "The record does not exist\n",
      "kaeo is on the list.\n",
      "nanortalik is on the list.\n",
      "The record does not exist\n",
      "manzanillo is on the list.\n",
      "la ronge is on the list.\n",
      "caceres is on the list.\n",
      "apatou is on the list.\n",
      "atuona is on the list.\n",
      "atar is on the list.\n",
      "nemuro is on the list.\n",
      "lianzhou is on the list.\n",
      "poum is on the list.\n",
      "tura is on the list.\n",
      "yar-sale is on the list.\n",
      "The record does not exist\n",
      "vezirkopru is on the list.\n",
      "sinnamary is on the list.\n",
      "suntar is on the list.\n",
      "guerrero negro is on the list.\n",
      "katsuura is on the list.\n",
      "bonavista is on the list.\n",
      "merauke is on the list.\n",
      "charters towers is on the list.\n",
      "pingliang is on the list.\n",
      "The record does not exist\n",
      "te anau is on the list.\n",
      "lengshuitan is on the list.\n",
      "hermosillo is on the list.\n",
      "georgetown is on the list.\n",
      "geraldton is on the list.\n",
      "esperance is on the list.\n",
      "cayenne is on the list.\n",
      "port lincoln is on the list.\n",
      "babstovo is on the list.\n",
      "sandakan is on the list.\n",
      "longyearbyen is on the list.\n",
      "laguna is on the list.\n",
      "narsaq is on the list.\n",
      "bogotol is on the list.\n",
      "tiksi is on the list.\n",
      "vestmannaeyjar is on the list.\n",
      "aviles is on the list.\n",
      "upernavik is on the list.\n",
      "salaga is on the list.\n",
      "turayf is on the list.\n",
      "cidreira is on the list.\n",
      "regina is on the list.\n",
      "mingshui is on the list.\n",
      "yeroham is on the list.\n",
      "chinna salem is on the list.\n",
      "dieppe is on the list.\n",
      "affoltern is on the list.\n",
      "souillac is on the list.\n",
      "petropavlovsk-kamchatskiy is on the list.\n",
      "eureka is on the list.\n",
      "rubiataba is on the list.\n",
      "saskylakh is on the list.\n",
      "batemans bay is on the list.\n",
      "fortuna is on the list.\n",
      "saint-augustin is on the list.\n",
      "nome is on the list.\n",
      "kampot is on the list.\n",
      "thompson is on the list.\n",
      "shingu is on the list.\n",
      "mosquera is on the list.\n",
      "The record does not exist\n",
      "The record does not exist\n",
      "bida is on the list.\n",
      "victoria is on the list.\n",
      "camocim is on the list.\n",
      "labuhan is on the list.\n",
      "nurota is on the list.\n",
      "cape town is on the list.\n",
      "san andres is on the list.\n",
      "mao is on the list.\n",
      "soyo is on the list.\n",
      "beringovskiy is on the list.\n",
      "juneau is on the list.\n",
      "monor is on the list.\n",
      "vila velha is on the list.\n",
      "whitehorse is on the list.\n",
      "iqaluit is on the list.\n",
      "great bend is on the list.\n",
      "leshukonskoye is on the list.\n",
      "lucea is on the list.\n",
      "srednebelaya is on the list.\n",
      "airai is on the list.\n",
      "hofn is on the list.\n",
      "sistranda is on the list.\n",
      "verdun is on the list.\n",
      "pangai is on the list.\n",
      "meulaboh is on the list.\n",
      "diego de almagro is on the list.\n",
      "juba is on the list.\n",
      "vestmanna is on the list.\n",
      "tashigang is on the list.\n",
      "alekseyevskoye is on the list.\n",
      "manaquiri is on the list.\n",
      "vrangel is on the list.\n",
      "marystown is on the list.\n",
      "carson city is on the list.\n",
      "elko is on the list.\n",
      "bengkulu is on the list.\n",
      "garowe is on the list.\n",
      "hambantota is on the list.\n",
      "namatanai is on the list.\n",
      "san patricio is on the list.\n",
      "The record does not exist\n",
      "salinopolis is on the list.\n",
      "talakan is on the list.\n",
      "romny is on the list.\n",
      "maraa is on the list.\n",
      "semnan is on the list.\n",
      "natal is on the list.\n",
      "kharan is on the list.\n",
      "grindavik is on the list.\n",
      "pevek is on the list.\n",
      "san fernando is on the list.\n",
      "dingle is on the list.\n",
      "waverley is on the list.\n",
      "mariestad is on the list.\n",
      "sao joao da barra is on the list.\n",
      "itajuba is on the list.\n",
      "sobolevo is on the list.\n",
      "hithadhoo is on the list.\n",
      "adrar is on the list.\n",
      "pandamatenga is on the list.\n",
      "muros is on the list.\n",
      "gourdon is on the list.\n",
      "assiniboia is on the list.\n",
      "chokurdakh is on the list.\n",
      "The record does not exist\n",
      "yulara is on the list.\n",
      "craig is on the list.\n",
      "mitsamiouli is on the list.\n",
      "dzhankoy is on the list.\n",
      "The record does not exist\n",
      "grand-santi is on the list.\n",
      "high rock is on the list.\n",
      "itarema is on the list.\n",
      "mackay is on the list.\n",
      "awbari is on the list.\n",
      "springbok is on the list.\n",
      "palmer is on the list.\n",
      "manokwari is on the list.\n",
      "The record does not exist\n",
      "zyryanskoye is on the list.\n",
      "radovan is on the list.\n",
      "hualmay is on the list.\n",
      "nalut is on the list.\n",
      "neuquen is on the list.\n",
      "emba is on the list.\n",
      "redlands is on the list.\n",
      "cherskiy is on the list.\n",
      "el carmen is on the list.\n",
      "touros is on the list.\n",
      "The record does not exist\n",
      "The record does not exist\n",
      "pangody is on the list.\n",
      "ketchikan is on the list.\n",
      "sitka is on the list.\n",
      "port augusta is on the list.\n",
      "kadaya is on the list.\n",
      "masuguru is on the list.\n",
      "kuna is on the list.\n",
      "mahebourg is on the list.\n",
      "ponta do sol is on the list.\n",
      "eyl is on the list.\n",
      "klaksvik is on the list.\n",
      "phan thiet is on the list.\n",
      "The record does not exist\n",
      "grand gaube is on the list.\n",
      "faya is on the list.\n",
      "luanda is on the list.\n",
      "beian is on the list.\n",
      "uyskoye is on the list.\n",
      "hasaki is on the list.\n",
      "tomatlan is on the list.\n",
      "nikolskoye is on the list.\n"
     ]
    },
    {
     "name": "stdout",
     "output_type": "stream",
     "text": [
      "kutum is on the list.\n",
      "west lafayette is on the list.\n",
      "tyup is on the list.\n",
      "igarka is on the list.\n",
      "lebu is on the list.\n",
      "owando is on the list.\n",
      "bekovo is on the list.\n",
      "karasjok is on the list.\n",
      "vardo is on the list.\n",
      "khandbari is on the list.\n",
      "uttarkashi is on the list.\n",
      "vila franca do campo is on the list.\n",
      "bara is on the list.\n",
      "kloulklubed is on the list.\n",
      "iskateley is on the list.\n",
      "The record does not exist\n",
      "husavik is on the list.\n",
      "tanete is on the list.\n",
      "longhua is on the list.\n",
      "huaibei is on the list.\n",
      "byron bay is on the list.\n",
      "The record does not exist\n",
      "ulaangom is on the list.\n",
      "saint george is on the list.\n",
      "saint-pierre is on the list.\n",
      "samana is on the list.\n",
      "kupang is on the list.\n",
      "todos santos is on the list.\n",
      "passo de camaragibe is on the list.\n",
      "santa fe is on the list.\n",
      "aparecida do taboado is on the list.\n",
      "deputatskiy is on the list.\n",
      "lac du bonnet is on the list.\n",
      "tommot is on the list.\n",
      "ixtapa is on the list.\n",
      "yumen is on the list.\n",
      "The record does not exist\n",
      "uravakonda is on the list.\n",
      "ous is on the list.\n",
      "saldanha is on the list.\n",
      "The record does not exist\n",
      "baltasi is on the list.\n",
      "luangwa is on the list.\n",
      "limbuhan is on the list.\n",
      "The record does not exist\n",
      "dudinka is on the list.\n",
      "quatre cocos is on the list.\n",
      "aksarka is on the list.\n",
      "gondanglegi is on the list.\n",
      "kavaratti is on the list.\n",
      "otane is on the list.\n",
      "channel-port aux basques is on the list.\n",
      "ternate is on the list.\n",
      "el progreso is on the list.\n",
      "skibbereen is on the list.\n",
      "san cristobal is on the list.\n",
      "ferzikovo is on the list.\n",
      "inhambane is on the list.\n",
      "borzya is on the list.\n",
      "talara is on the list.\n",
      "tual is on the list.\n",
      "lompoc is on the list.\n",
      "cockburn town is on the list.\n",
      "ust-nera is on the list.\n",
      "safaga is on the list.\n",
      "biak is on the list.\n",
      "atikokan is on the list.\n",
      "mustafabad is on the list.\n",
      "college is on the list.\n",
      "haines junction is on the list.\n",
      "megion is on the list.\n",
      "puerto leguizamo is on the list.\n",
      "The record does not exist\n",
      "kirakira is on the list.\n",
      "ranong is on the list.\n",
      "brae is on the list.\n",
      "mehamn is on the list.\n",
      "praia da vitoria is on the list.\n",
      "kununurra is on the list.\n",
      "lerwick is on the list.\n",
      "ingham is on the list.\n",
      "onguday is on the list.\n",
      "valea ierii is on the list.\n",
      "yingcheng is on the list.\n",
      "chifeng is on the list.\n",
      "yining is on the list.\n",
      "sidi ali is on the list.\n",
      "belaguntha is on the list.\n",
      "banda aceh is on the list.\n",
      "chepareria is on the list.\n",
      "krasnoselkup is on the list.\n",
      "puerto quijarro is on the list.\n",
      "zhanaozen is on the list.\n",
      "baraboo is on the list.\n",
      "moron is on the list.\n",
      "evensk is on the list.\n",
      "srednekolymsk is on the list.\n",
      "penzance is on the list.\n",
      "nizhniy odes is on the list.\n",
      "colesberg is on the list.\n",
      "egvekinot is on the list.\n",
      "franklin is on the list.\n",
      "port blair is on the list.\n",
      "grand island is on the list.\n",
      "zhigansk is on the list.\n",
      "raton is on the list.\n",
      "talnakh is on the list.\n",
      "qianjiang is on the list.\n",
      "navirai is on the list.\n",
      "cap malheureux is on the list.\n",
      "limon is on the list.\n",
      "kamariotissa is on the list.\n",
      "nuuk is on the list.\n",
      "pacific grove is on the list.\n",
      "ruteng is on the list.\n",
      "buraydah is on the list.\n",
      "grao mogol is on the list.\n",
      "san ignacio is on the list.\n",
      "aswan is on the list.\n",
      "vanavara is on the list.\n",
      "ludvika is on the list.\n",
      "ahipara is on the list.\n",
      "izhma is on the list.\n",
      "batagay-alyta is on the list.\n",
      "zhicheng is on the list.\n",
      "kondinskoye is on the list.\n",
      "kahului is on the list.\n",
      "ndele is on the list.\n",
      "panjab is on the list.\n",
      "hami is on the list.\n",
      "kailua is on the list.\n",
      "yebaishou is on the list.\n",
      "ankazoabo is on the list.\n",
      "los llanos de aridane is on the list.\n",
      "ha tinh is on the list.\n",
      "ngaoundere is on the list.\n",
      "cam ranh is on the list.\n",
      "nguruka is on the list.\n",
      "san jose is on the list.\n",
      "san lorenzo is on the list.\n",
      "linhai is on the list.\n",
      "marrakesh is on the list.\n",
      "imperial beach is on the list.\n",
      "wanaka is on the list.\n",
      "jalu is on the list.\n",
      "tarnok is on the list.\n",
      "mahibadhoo is on the list.\n",
      "serafimovich is on the list.\n",
      "havoysund is on the list.\n",
      "hokitika is on the list.\n",
      "bilibino is on the list.\n",
      "hobyo is on the list.\n",
      "lorengau is on the list.\n",
      "ishigaki is on the list.\n",
      "vostok is on the list.\n",
      "nantucket is on the list.\n",
      "surt is on the list.\n",
      "rawson is on the list.\n",
      "The record does not exist\n",
      "ust-kuyga is on the list.\n",
      "yerbogachen is on the list.\n",
      "walvis bay is on the list.\n",
      "itoman is on the list.\n",
      "lata is on the list.\n",
      "mezhdurechenskiy is on the list.\n",
      "mahon is on the list.\n",
      "The record does not exist\n",
      "launceston is on the list.\n",
      "bozoum is on the list.\n",
      "saint-prosper is on the list.\n",
      "mecca is on the list.\n",
      "kabalo is on the list.\n",
      "sur is on the list.\n",
      "krasnaya gora is on the list.\n",
      "The record does not exist\n",
      "hovd is on the list.\n",
      "noumea is on the list.\n",
      "chitaga is on the list.\n",
      "bam is on the list.\n",
      "carahue is on the list.\n",
      "erenhot is on the list.\n",
      "calamar is on the list.\n",
      "waingapu is on the list.\n",
      "olafsvik is on the list.\n",
      "cozumel is on the list.\n",
      "ukiah is on the list.\n",
      "lazo is on the list.\n",
      "tulum is on the list.\n",
      "port hardy is on the list.\n",
      "vila do maio is on the list.\n",
      "riyadh is on the list.\n",
      "hamina is on the list.\n",
      "wanning is on the list.\n",
      "The record does not exist\n",
      "edson is on the list.\n",
      "werda is on the list.\n",
      "half moon bay is on the list.\n",
      "williston is on the list.\n",
      "pedernales is on the list.\n",
      "at-bashi is on the list.\n",
      "henties bay is on the list.\n",
      "tondon is on the list.\n",
      "lasa is on the list.\n",
      "casambalangan is on the list.\n",
      "la romana is on the list.\n",
      "guaira is on the list.\n",
      "visby is on the list.\n",
      "rio grande is on the list.\n",
      "ornskoldsvik is on the list.\n",
      "The record does not exist\n",
      "lianran is on the list.\n",
      "The record does not exist\n",
      "talcahuano is on the list.\n",
      "karratha is on the list.\n",
      "cordoba is on the list.\n",
      "sortino is on the list.\n",
      "alofi is on the list.\n",
      "marawi is on the list.\n",
      "whitecourt is on the list.\n",
      "trzebinia is on the list.\n",
      "akdepe is on the list.\n",
      "bulungu is on the list.\n",
      "nanchang is on the list.\n",
      "pierre is on the list.\n",
      "caxito is on the list.\n",
      "minab is on the list.\n",
      "arica is on the list.\n",
      "birao is on the list.\n",
      "ambanja is on the list.\n",
      "katherine is on the list.\n",
      "katobu is on the list.\n",
      "killybegs is on the list.\n",
      "aykhal is on the list.\n",
      "santarem is on the list.\n",
      "saint-georges is on the list.\n",
      "itaqui is on the list.\n",
      "sorland is on the list.\n",
      "ayakudi is on the list.\n",
      "The record does not exist\n",
      "tocopilla is on the list.\n",
      "tshikapa is on the list.\n",
      "broome is on the list.\n",
      "graaff-reinet is on the list.\n",
      "richards bay is on the list.\n",
      "nadym is on the list.\n",
      "cross lanes is on the list.\n",
      "port-gentil is on the list.\n",
      "dzhiginka is on the list.\n",
      "tevaitoa is on the list.\n",
      "port hedland is on the list.\n",
      "tupik is on the list.\n",
      "honjo is on the list.\n",
      "bukachacha is on the list.\n",
      "The record does not exist\n",
      "antalaha is on the list.\n"
     ]
    }
   ],
   "source": [
    "latitude=[]\n",
    "longitude=[]\n",
    "temp_max=[]\n",
    "humidity=[]\n",
    "clouds=[]\n",
    "wind_speeds=[]\n",
    "countries=[]\n",
    "date=[]\n",
    "city_names=[]\n",
    "\n",
    "for city in cities:\n",
    "    response_json = requests.get(query_url + city).json()\n",
    "#     print(json.dumps(response_json, indent = 4, sort_keys = True))\n",
    "#     break\n",
    "    \n",
    "    try:\n",
    "        city_name=response_json[\"name\"]\n",
    "        city_names.append(city)\n",
    "        lati=response_json[\"coord\"][\"lat\"]\n",
    "        latitude.append(lati)\n",
    "        long=response_json[\"coord\"][\"lon\"]\n",
    "        longitude.append(long)\n",
    "        temperature=response_json[\"main\"][\"temp\"]\n",
    "        temp_max.append(temperature)\n",
    "        hum=response_json[\"main\"][\"humidity\"]\n",
    "        humidity.append(hum)\n",
    "        cld= response_json[\"clouds\"][\"all\"]\n",
    "        clouds.append(cld)\n",
    "        wind=response_json[\"wind\"][\"speed\"]\n",
    "        wind_speeds.append(wind)\n",
    "        cntr=response_json[\"sys\"][\"country\"]\n",
    "        countries.append(cntr)\n",
    "        dt=response_json[\"dt\"]\n",
    "        date.append(dt)\n",
    "        print(f\"{city} is on the list.\")\n",
    "        \n",
    "        \n",
    "    except(KeyError,IndexError):\n",
    "        print(\"The record does not exist\")\n"
   ]
  },
  {
   "cell_type": "code",
   "execution_count": 243,
   "metadata": {},
   "outputs": [],
   "source": [
    "# print(len(lat),len(lon),len(temp_max),len(humidity),len(cloud),len(wind_speed),len(country),len(date),len(city_names))"
   ]
  },
  {
   "cell_type": "markdown",
   "metadata": {},
   "source": [
    "<!--  Convert Raw Data to DataFrame -->\n",
    "* Export the city data into a .csv.\n",
    "* Display the DataFrame"
   ]
  },
  {
   "cell_type": "code",
   "execution_count": 244,
   "metadata": {},
   "outputs": [
    {
     "data": {
      "text/html": [
       "<div>\n",
       "<style scoped>\n",
       "    .dataframe tbody tr th:only-of-type {\n",
       "        vertical-align: middle;\n",
       "    }\n",
       "\n",
       "    .dataframe tbody tr th {\n",
       "        vertical-align: top;\n",
       "    }\n",
       "\n",
       "    .dataframe thead th {\n",
       "        text-align: right;\n",
       "    }\n",
       "</style>\n",
       "<table border=\"1\" class=\"dataframe\">\n",
       "  <thead>\n",
       "    <tr style=\"text-align: right;\">\n",
       "      <th></th>\n",
       "      <th>City</th>\n",
       "      <th>Lat</th>\n",
       "      <th>Lng</th>\n",
       "      <th>Max Temp</th>\n",
       "      <th>Humidity</th>\n",
       "      <th>Cloudiness</th>\n",
       "      <th>Wind Speed</th>\n",
       "      <th>Country</th>\n",
       "      <th>Date</th>\n",
       "    </tr>\n",
       "  </thead>\n",
       "  <tbody>\n",
       "    <tr>\n",
       "      <th>0</th>\n",
       "      <td>butaritari</td>\n",
       "      <td>3.0707</td>\n",
       "      <td>172.7902</td>\n",
       "      <td>81.16</td>\n",
       "      <td>73</td>\n",
       "      <td>56</td>\n",
       "      <td>8.10</td>\n",
       "      <td>KI</td>\n",
       "      <td>1635036696</td>\n",
       "    </tr>\n",
       "    <tr>\n",
       "      <th>1</th>\n",
       "      <td>bahia blanca</td>\n",
       "      <td>-38.7196</td>\n",
       "      <td>-62.2724</td>\n",
       "      <td>48.67</td>\n",
       "      <td>59</td>\n",
       "      <td>0</td>\n",
       "      <td>10.94</td>\n",
       "      <td>AR</td>\n",
       "      <td>1635037136</td>\n",
       "    </tr>\n",
       "    <tr>\n",
       "      <th>2</th>\n",
       "      <td>luderitz</td>\n",
       "      <td>-26.6481</td>\n",
       "      <td>15.1594</td>\n",
       "      <td>56.61</td>\n",
       "      <td>71</td>\n",
       "      <td>0</td>\n",
       "      <td>16.96</td>\n",
       "      <td>NA</td>\n",
       "      <td>1635036779</td>\n",
       "    </tr>\n",
       "    <tr>\n",
       "      <th>3</th>\n",
       "      <td>maturin</td>\n",
       "      <td>9.7500</td>\n",
       "      <td>-63.1767</td>\n",
       "      <td>72.81</td>\n",
       "      <td>97</td>\n",
       "      <td>79</td>\n",
       "      <td>4.92</td>\n",
       "      <td>VE</td>\n",
       "      <td>1635037137</td>\n",
       "    </tr>\n",
       "    <tr>\n",
       "      <th>4</th>\n",
       "      <td>wajid</td>\n",
       "      <td>3.8093</td>\n",
       "      <td>43.2471</td>\n",
       "      <td>73.51</td>\n",
       "      <td>88</td>\n",
       "      <td>16</td>\n",
       "      <td>9.86</td>\n",
       "      <td>SO</td>\n",
       "      <td>1635037137</td>\n",
       "    </tr>\n",
       "  </tbody>\n",
       "</table>\n",
       "</div>"
      ],
      "text/plain": [
       "           City      Lat       Lng  Max Temp  Humidity  Cloudiness  \\\n",
       "0    butaritari   3.0707  172.7902     81.16        73          56   \n",
       "1  bahia blanca -38.7196  -62.2724     48.67        59           0   \n",
       "2      luderitz -26.6481   15.1594     56.61        71           0   \n",
       "3       maturin   9.7500  -63.1767     72.81        97          79   \n",
       "4         wajid   3.8093   43.2471     73.51        88          16   \n",
       "\n",
       "   Wind Speed Country        Date  \n",
       "0        8.10      KI  1635036696  \n",
       "1       10.94      AR  1635037136  \n",
       "2       16.96      NA  1635036779  \n",
       "3        4.92      VE  1635037137  \n",
       "4        9.86      SO  1635037137  "
      ]
     },
     "execution_count": 244,
     "metadata": {},
     "output_type": "execute_result"
    }
   ],
   "source": [
    "city_df=pd.DataFrame({\"City\":city_names,\"Lat\":latitude,\"Lng\":longitude,\"Max Temp\":temp_max,\"Humidity\":humidity,\"Cloudiness\":clouds,\n",
    "            \"Wind Speed\":wind_speeds,\"Country\":countries,\"Date\":date})\n",
    "\n",
    "city_df.head()"
   ]
  },
  {
   "cell_type": "code",
   "execution_count": 245,
   "metadata": {},
   "outputs": [],
   "source": [
    "city_df.to_csv(\"../output_data/cities.csv\",index=False)"
   ]
  },
  {
   "cell_type": "markdown",
   "metadata": {},
   "source": [
    "## Plotting the Data\n",
    "* Use proper labeling of the plots using plot titles (including date of analysis) and axes labels.\n",
    "* Save the plotted figures as .pngs."
   ]
  },
  {
   "cell_type": "markdown",
   "metadata": {},
   "source": [
    "## Latitude vs. Temperature Plot"
   ]
  },
  {
   "cell_type": "code",
   "execution_count": 273,
   "metadata": {
    "scrolled": true
   },
   "outputs": [
    {
     "data": {
      "image/png": "[encoded data removed]",
      "text/plain": [
       "<Figure size 432x288 with 1 Axes>"
      ]
     },
     "metadata": {
      "needs_background": "light"
     },
     "output_type": "display_data"
    },
    {
     "data": {
      "text/plain": [
       "<Figure size 432x288 with 0 Axes>"
      ]
     },
     "metadata": {},
     "output_type": "display_data"
    }
   ],
   "source": [
    "x_values = city_df[\"Lat\"]\n",
    "y_values = city_df['Max Temp']\n",
    "plt.scatter(x_values,y_values)\n",
    "plt.xlabel('Latitude')\n",
    "plt.ylabel('Temperature')\n",
    "plt.title('Latitude vs. Temperature')\n",
    "plt.grid(True)\n",
    "plt.show()\n",
    "plt.savefig(\"Latitude_vs_Temperature.png\")"
   ]
  },
  {
   "cell_type": "markdown",
   "metadata": {},
   "source": [
    "## Latitude vs. Humidity Plot"
   ]
  },
  {
   "cell_type": "code",
   "execution_count": 260,
   "metadata": {},
   "outputs": [
    {
     "data": {
      "image/png": "[encoded data removed]",
      "text/plain": [
       "<Figure size 432x288 with 1 Axes>"
      ]
     },
     "metadata": {
      "needs_background": "light"
     },
     "output_type": "display_data"
    },
    {
     "data": {
      "text/plain": [
       "<Figure size 432x288 with 0 Axes>"
      ]
     },
     "metadata": {},
     "output_type": "display_data"
    }
   ],
   "source": [
    "x_values = city_df[\"Lat\"]\n",
    "y_values = city_df['Humidity']\n",
    "plt.scatter(x_values,y_values)\n",
    "plt.xlabel('Latitude')\n",
    "plt.ylabel('Humidity')\n",
    "plt.title('Latitude vs. Humidity')\n",
    "plt.grid(True)\n",
    "plt.show()\n",
    "plt.savefig(\"Images/Latitude_vs_Humidity.png\")"
   ]
  },
  {
   "cell_type": "markdown",
   "metadata": {},
   "source": [
    "## Latitude vs. Cloudiness Plot"
   ]
  },
  {
   "cell_type": "code",
   "execution_count": 261,
   "metadata": {},
   "outputs": [
    {
     "data": {
      "image/png": "[encoded data removed]",
      "text/plain": [
       "<Figure size 432x288 with 1 Axes>"
      ]
     },
     "metadata": {
      "needs_background": "light"
     },
     "output_type": "display_data"
    },
    {
     "data": {
      "text/plain": [
       "<Figure size 432x288 with 0 Axes>"
      ]
     },
     "metadata": {},
     "output_type": "display_data"
    }
   ],
   "source": [
    "x_values = city_df[\"Lat\"]\n",
    "y_values = city_df['Cloudiness']\n",
    "plt.scatter(x_values,y_values)\n",
    "plt.xlabel('Latitude')\n",
    "plt.ylabel('Cloudiness')\n",
    "plt.title('Latitude vs. Cloudiness')\n",
    "plt.grid(True)\n",
    "plt.show()\n",
    "plt.savefig(\"Images/Latitude_vs_Cloudiness.png\")"
   ]
  },
  {
   "cell_type": "markdown",
   "metadata": {},
   "source": [
    "## Latitude vs. Wind Speed Plot"
   ]
  },
  {
   "cell_type": "code",
   "execution_count": 262,
   "metadata": {},
   "outputs": [
    {
     "data": {
      "image/png": "[encoded data removed]",
      "text/plain": [
       "<Figure size 432x288 with 1 Axes>"
      ]
     },
     "metadata": {
      "needs_background": "light"
     },
     "output_type": "display_data"
    },
    {
     "data": {
      "text/plain": [
       "<Figure size 432x288 with 0 Axes>"
      ]
     },
     "metadata": {},
     "output_type": "display_data"
    }
   ],
   "source": [
    "x_values = city_df[\"Lat\"]\n",
    "y_values = city_df['Wind Speed']\n",
    "plt.scatter(x_values,y_values)\n",
    "plt.xlabel('Latitude')\n",
    "plt.ylabel('Wind Speed')\n",
    "plt.title('Latitude vs. Wind Speed')\n",
    "plt.grid(True)\n",
    "plt.show()\n",
    "plt.savefig(\"Images/Latitude_vs_Wind Speed.png\")"
   ]
  },
  {
   "cell_type": "markdown",
   "metadata": {},
   "source": [
    "## Linear Regression"
   ]
  },
  {
   "cell_type": "code",
   "execution_count": 250,
   "metadata": {},
   "outputs": [
    {
     "data": {
      "text/html": [
       "<div>\n",
       "<style scoped>\n",
       "    .dataframe tbody tr th:only-of-type {\n",
       "        vertical-align: middle;\n",
       "    }\n",
       "\n",
       "    .dataframe tbody tr th {\n",
       "        vertical-align: top;\n",
       "    }\n",
       "\n",
       "    .dataframe thead th {\n",
       "        text-align: right;\n",
       "    }\n",
       "</style>\n",
       "<table border=\"1\" class=\"dataframe\">\n",
       "  <thead>\n",
       "    <tr style=\"text-align: right;\">\n",
       "      <th></th>\n",
       "      <th>City</th>\n",
       "      <th>Lat</th>\n",
       "      <th>Lng</th>\n",
       "      <th>Max Temp</th>\n",
       "      <th>Humidity</th>\n",
       "      <th>Cloudiness</th>\n",
       "      <th>Wind Speed</th>\n",
       "      <th>Country</th>\n",
       "      <th>Date</th>\n",
       "    </tr>\n",
       "  </thead>\n",
       "  <tbody>\n",
       "    <tr>\n",
       "      <th>1</th>\n",
       "      <td>bahia blanca</td>\n",
       "      <td>-38.7196</td>\n",
       "      <td>-62.2724</td>\n",
       "      <td>48.67</td>\n",
       "      <td>59</td>\n",
       "      <td>0</td>\n",
       "      <td>10.94</td>\n",
       "      <td>AR</td>\n",
       "      <td>1635037136</td>\n",
       "    </tr>\n",
       "    <tr>\n",
       "      <th>2</th>\n",
       "      <td>luderitz</td>\n",
       "      <td>-26.6481</td>\n",
       "      <td>15.1594</td>\n",
       "      <td>56.61</td>\n",
       "      <td>71</td>\n",
       "      <td>0</td>\n",
       "      <td>16.96</td>\n",
       "      <td>NA</td>\n",
       "      <td>1635036779</td>\n",
       "    </tr>\n",
       "    <tr>\n",
       "      <th>6</th>\n",
       "      <td>port macquarie</td>\n",
       "      <td>-31.4333</td>\n",
       "      <td>152.9167</td>\n",
       "      <td>83.89</td>\n",
       "      <td>62</td>\n",
       "      <td>14</td>\n",
       "      <td>18.16</td>\n",
       "      <td>AU</td>\n",
       "      <td>1635037138</td>\n",
       "    </tr>\n",
       "    <tr>\n",
       "      <th>9</th>\n",
       "      <td>pisco</td>\n",
       "      <td>-13.7000</td>\n",
       "      <td>-76.2167</td>\n",
       "      <td>60.85</td>\n",
       "      <td>82</td>\n",
       "      <td>0</td>\n",
       "      <td>18.41</td>\n",
       "      <td>PE</td>\n",
       "      <td>1635037139</td>\n",
       "    </tr>\n",
       "    <tr>\n",
       "      <th>14</th>\n",
       "      <td>saint-philippe</td>\n",
       "      <td>-21.3585</td>\n",
       "      <td>55.7679</td>\n",
       "      <td>71.26</td>\n",
       "      <td>84</td>\n",
       "      <td>40</td>\n",
       "      <td>13.22</td>\n",
       "      <td>RE</td>\n",
       "      <td>1635037142</td>\n",
       "    </tr>\n",
       "  </tbody>\n",
       "</table>\n",
       "</div>"
      ],
      "text/plain": [
       "              City      Lat       Lng  Max Temp  Humidity  Cloudiness  \\\n",
       "1     bahia blanca -38.7196  -62.2724     48.67        59           0   \n",
       "2         luderitz -26.6481   15.1594     56.61        71           0   \n",
       "6   port macquarie -31.4333  152.9167     83.89        62          14   \n",
       "9            pisco -13.7000  -76.2167     60.85        82           0   \n",
       "14  saint-philippe -21.3585   55.7679     71.26        84          40   \n",
       "\n",
       "    Wind Speed Country        Date  \n",
       "1        10.94      AR  1635037136  \n",
       "2        16.96      NA  1635036779  \n",
       "6        18.16      AU  1635037138  \n",
       "9        18.41      PE  1635037139  \n",
       "14       13.22      RE  1635037142  "
      ]
     },
     "execution_count": 250,
     "metadata": {},
     "output_type": "execute_result"
    }
   ],
   "source": [
    "north_hem= city_df.loc[city_df[\"Lat\"]>=0]\n",
    "\n",
    "south_hem= city_df.loc[city_df[\"Lat\"]<0]\n",
    "\n",
    "south_hem.head()"
   ]
  },
  {
   "cell_type": "markdown",
   "metadata": {},
   "source": [
    "####  Northern Hemisphere - Max Temp vs. Latitude Linear Regression"
   ]
  },
  {
   "cell_type": "code",
   "execution_count": 265,
   "metadata": {},
   "outputs": [
    {
     "name": "stdout",
     "output_type": "stream",
     "text": [
      "The r-value is: 0.7835818864071603\n"
     ]
    },
    {
     "data": {
      "image/png": "[encoded data removed]",
      "text/plain": [
       "<Figure size 432x288 with 1 Axes>"
      ]
     },
     "metadata": {
      "needs_background": "light"
     },
     "output_type": "display_data"
    },
    {
     "data": {
      "text/plain": [
       "<Figure size 432x288 with 0 Axes>"
      ]
     },
     "metadata": {},
     "output_type": "display_data"
    }
   ],
   "source": [
    "#Set x and y intercept values\n",
    "x_values = north_hem['Lat']\n",
    "y_values = north_hem['Max Temp']\n",
    "\n",
    "# Perform a linear regression on temperature vs. latitude\n",
    "(slope, intercept, rvalue, pvalue, stderr) = stats.linregress(x_values, y_values)\n",
    "\n",
    "# Get regression values\n",
    "regress_values = x_values * slope + intercept\n",
    "\n",
    "\n",
    "# Create line equation string to add this to our plot\n",
    "line_eq = \"y = \" + str(round(slope,2)) + \"x +\" + str(round(intercept,2))\n",
    "# print(line_eq)\n",
    "\n",
    "#Create the plot\n",
    "plt.scatter(x_values,y_values)\n",
    "plt.plot(x_values,regress_values,\"r-\")\n",
    "\n",
    "# Label plot and annotate the line equation\n",
    "plt.xlabel('Latitude')\n",
    "plt.ylabel('Temperature')\n",
    "plt.annotate(line_eq,(40,15),fontsize=15,color=\"red\")\n",
    "plt.grid(True)\n",
    "plt.title('Northern Hemisphere: Temperature vs. Latitude')\n",
    "\n",
    "# Print r value\n",
    "print(f\"The r-value is: {rvalue**2}\")\n",
    "\n",
    "# Show plot\n",
    "plt.show()\n",
    "plt.savefig(\"Images/Northern_Hemisphere_Temperature_vs_Latitude.png\")"
   ]
  },
  {
   "cell_type": "markdown",
   "metadata": {},
   "source": [
    "####  Southern Hemisphere - Max Temp vs. Latitude Linear Regression"
   ]
  },
  {
   "cell_type": "code",
   "execution_count": 266,
   "metadata": {},
   "outputs": [
    {
     "name": "stdout",
     "output_type": "stream",
     "text": [
      "The r-value is: 0.5212135194180395\n"
     ]
    },
    {
     "data": {
      "image/png": "[encoded data removed]",
      "text/plain": [
       "<Figure size 432x288 with 1 Axes>"
      ]
     },
     "metadata": {
      "needs_background": "light"
     },
     "output_type": "display_data"
    },
    {
     "data": {
      "text/plain": [
       "<Figure size 432x288 with 0 Axes>"
      ]
     },
     "metadata": {},
     "output_type": "display_data"
    }
   ],
   "source": [
    "#Set x and y intercept values\n",
    "x_values = south_hem['Lat']\n",
    "y_values = south_hem['Max Temp']\n",
    "\n",
    "# Perform a linear regression on temperature vs. latitude\n",
    "(slope, intercept, rvalue, pvalue, stderr) = stats.linregress(x_values, y_values)\n",
    "\n",
    "# Get regression values\n",
    "regress_values = x_values * slope + intercept\n",
    "\n",
    "# Create line equation string to add this to our plot\n",
    "line_eq = \"y = \" + str(round(slope,2)) + \"x +\" + str(round(intercept,2))\n",
    "# print(line_eq)\n",
    "\n",
    "#Create the plot\n",
    "plt.scatter(x_values,y_values)\n",
    "plt.plot(x_values,regress_values,\"r-\")\n",
    "\n",
    "# Label plot and annotate the line equation\n",
    "plt.xlabel('Latitude')\n",
    "plt.ylabel('Temperature')\n",
    "plt.annotate(line_eq,(-20,50),fontsize=15,color=\"red\")\n",
    "plt.grid(True)\n",
    "plt.title('Southern Hemisphere: Temperature vs. Latitude')\n",
    "plt.xlim(0,-50)\n",
    "# Print r value\n",
    "print(f\"The r-value is: {rvalue**2}\")\n",
    "\n",
    "# Show plot\n",
    "plt.show()\n",
    "plt.savefig(\"Images/Southern_Hemisphere_Temperature_s_Latitude.png\")"
   ]
  },
  {
   "cell_type": "markdown",
   "metadata": {},
   "source": [
    "####  Northern Hemisphere - Humidity (%) vs. Latitude Linear Regression"
   ]
  },
  {
   "cell_type": "code",
   "execution_count": 267,
   "metadata": {},
   "outputs": [
    {
     "name": "stdout",
     "output_type": "stream",
     "text": [
      "The r-value is: 0.02270187544859955\n"
     ]
    },
    {
     "data": {
      "image/png": "[encoded data removed]",
      "text/plain": [
       "<Figure size 432x288 with 1 Axes>"
      ]
     },
     "metadata": {
      "needs_background": "light"
     },
     "output_type": "display_data"
    },
    {
     "data": {
      "text/plain": [
       "<Figure size 432x288 with 0 Axes>"
      ]
     },
     "metadata": {},
     "output_type": "display_data"
    }
   ],
   "source": [
    "#Set x and y intercept values\n",
    "x_values = north_hem['Lat']\n",
    "y_values = north_hem['Humidity']\n",
    "\n",
    "# Perform a linear regression on temperature vs. latitude\n",
    "(slope, intercept, rvalue, pvalue, stderr) = stats.linregress(x_values, y_values)\n",
    "\n",
    "# Get regression values\n",
    "regress_values = x_values * slope + intercept\n",
    "\n",
    "# Create line equation string to add this to our plot\n",
    "line_eq = \"y = \" + str(round(slope,2)) + \"x +\" + str(round(intercept,2))\n",
    "# print(line_eq)\n",
    "\n",
    "#Create the plot\n",
    "plt.scatter(x_values,y_values)\n",
    "plt.plot(x_values,regress_values,\"r-\")\n",
    "\n",
    "# Label plot and annotate the line equation\n",
    "plt.xlabel('Latitude')\n",
    "plt.ylabel('Humidity')\n",
    "plt.annotate(line_eq,(20,30),fontsize=15,color=\"red\")\n",
    "plt.grid(True)\n",
    "plt.title('Northern Hemisphere: Humidity vs. Latitude')\n",
    "\n",
    "# Print r value\n",
    "print(f\"The r-value is: {rvalue**2}\")\n",
    "\n",
    "# Show plot\n",
    "plt.show()\n",
    "plt.savefig(\"Images/Northern_Hemisphere_Humidity_vs_Latitude.png\")"
   ]
  },
  {
   "cell_type": "markdown",
   "metadata": {},
   "source": [
    "####  Southern Hemisphere - Humidity (%) vs. Latitude Linear Regression"
   ]
  },
  {
   "cell_type": "code",
   "execution_count": 268,
   "metadata": {},
   "outputs": [
    {
     "name": "stdout",
     "output_type": "stream",
     "text": [
      "The r-value is: 0.013357777539318449\n"
     ]
    },
    {
     "data": {
      "image/png": "[encoded data removed]",
      "text/plain": [
       "<Figure size 432x288 with 1 Axes>"
      ]
     },
     "metadata": {
      "needs_background": "light"
     },
     "output_type": "display_data"
    },
    {
     "data": {
      "text/plain": [
       "<Figure size 432x288 with 0 Axes>"
      ]
     },
     "metadata": {},
     "output_type": "display_data"
    }
   ],
   "source": [
    "#Set x and y intercept values\n",
    "x_values = south_hem['Lat']\n",
    "y_values = south_hem['Humidity']\n",
    "\n",
    "# Perform a linear regression on temperature vs. latitude\n",
    "(slope, intercept, rvalue, pvalue, stderr) = stats.linregress(x_values, y_values)\n",
    "\n",
    "# Get regression values\n",
    "regress_values = x_values * slope + intercept\n",
    "\n",
    "# Create line equation string to add this to our plot\n",
    "line_eq = \"y = \" + str(round(slope,2)) + \"x +\" + str(round(intercept,2))\n",
    "# print(line_eq)\n",
    "\n",
    "#Create the plot\n",
    "plt.scatter(x_values,y_values)\n",
    "plt.plot(x_values,regress_values,\"r-\")\n",
    "\n",
    "# Label plot and annotate the line equation\n",
    "plt.xlabel('Latitude')\n",
    "plt.ylabel('Humidity')\n",
    "plt.annotate(line_eq,(-30,25),fontsize=15,color=\"red\")\n",
    "plt.grid(True)\n",
    "plt.title('Southern Hemisphere: Humidity vs. Latitude')\n",
    "plt.xlim(-15,-45)\n",
    "# Print r value\n",
    "print(f\"The r-value is: {rvalue**2}\")\n",
    "\n",
    "# Show plot\n",
    "plt.show()\n",
    "plt.savefig(\"Images/Southern_Hemisphere_Humidity_vs_Latitude.png\")"
   ]
  },
  {
   "cell_type": "markdown",
   "metadata": {},
   "source": [
    "####  Northern Hemisphere - Cloudiness (%) vs. Latitude Linear Regression"
   ]
  },
  {
   "cell_type": "code",
   "execution_count": 269,
   "metadata": {},
   "outputs": [
    {
     "name": "stdout",
     "output_type": "stream",
     "text": [
      "The r-value is: 0.03390910115082352\n"
     ]
    },
    {
     "data": {
      "image/png": "[encoded data removed]",
      "text/plain": [
       "<Figure size 432x288 with 1 Axes>"
      ]
     },
     "metadata": {
      "needs_background": "light"
     },
     "output_type": "display_data"
    },
    {
     "data": {
      "text/plain": [
       "<Figure size 432x288 with 0 Axes>"
      ]
     },
     "metadata": {},
     "output_type": "display_data"
    }
   ],
   "source": [
    "#Set x and y intercept values\n",
    "x_values = north_hem['Lat']\n",
    "y_values = north_hem['Cloudiness']\n",
    "\n",
    "# Perform a linear regression on temperature vs. latitude\n",
    "(slope, intercept, rvalue, pvalue, stderr) = stats.linregress(x_values, y_values)\n",
    "\n",
    "# Get regression values\n",
    "regress_values = x_values * slope + intercept\n",
    "\n",
    "# Create line equation string to add this to our plot\n",
    "line_eq = \"y = \" + str(round(slope,2)) + \"x +\" + str(round(intercept,2))\n",
    "# print(line_eq)\n",
    "\n",
    "#Create the plot\n",
    "plt.scatter(x_values,y_values)\n",
    "plt.plot(x_values,regress_values,\"r-\")\n",
    "\n",
    "# Label plot and annotate the line equation\n",
    "plt.xlabel('Latitude')\n",
    "plt.ylabel('Cloudiness')\n",
    "plt.annotate(line_eq,(20,30),fontsize=15,color=\"red\")\n",
    "plt.grid(True)\n",
    "plt.title('Northern Hemisphere: Cloudiness vs. Latitude')\n",
    "\n",
    "# Print r value\n",
    "print(f\"The r-value is: {rvalue**2}\")\n",
    "\n",
    "# Show plot\n",
    "plt.show()\n",
    "plt.savefig(\"Images/Northern_Hemisphere_Cloudiness_vs_Latitude.png\")"
   ]
  },
  {
   "cell_type": "markdown",
   "metadata": {},
   "source": [
    "####  Southern Hemisphere - Cloudiness (%) vs. Latitude Linear Regression"
   ]
  },
  {
   "cell_type": "code",
   "execution_count": 270,
   "metadata": {},
   "outputs": [
    {
     "name": "stdout",
     "output_type": "stream",
     "text": [
      "The r-value is: 0.03470514471800474\n"
     ]
    },
    {
     "data": {
      "image/png": "[encoded data removed]",
      "text/plain": [
       "<Figure size 432x288 with 1 Axes>"
      ]
     },
     "metadata": {
      "needs_background": "light"
     },
     "output_type": "display_data"
    },
    {
     "data": {
      "text/plain": [
       "<Figure size 432x288 with 0 Axes>"
      ]
     },
     "metadata": {},
     "output_type": "display_data"
    }
   ],
   "source": [
    "#Set x and y intercept values\n",
    "x_values = south_hem['Lat']\n",
    "y_values = south_hem['Cloudiness']\n",
    "\n",
    "# Perform a linear regression on temperature vs. latitude\n",
    "(slope, intercept, rvalue, pvalue, stderr) = stats.linregress(x_values, y_values)\n",
    "\n",
    "# Get regression values\n",
    "regress_values = x_values * slope + intercept\n",
    "\n",
    "# Create line equation string to add this to our plot\n",
    "line_eq = \"y = \" + str(round(slope,2)) + \"x +\" + str(round(intercept,2))\n",
    "# print(line_eq)\n",
    "\n",
    "#Create the plot\n",
    "plt.scatter(x_values,y_values)\n",
    "plt.plot(x_values,regress_values,\"r-\")\n",
    "\n",
    "# Label plot and annotate the line equation\n",
    "plt.xlabel('Latitude')\n",
    "plt.ylabel('Cloudiness')\n",
    "plt.annotate(line_eq,(-30,20),fontsize=15,color=\"red\")\n",
    "plt.grid(True)\n",
    "plt.title('Southern Hemisphere: Cloudiness vs. Latitude')\n",
    "plt.xlim(0,-50)\n",
    "# Print r value\n",
    "print(f\"The r-value is: {rvalue**2}\")\n",
    "\n",
    "# Show plot\n",
    "plt.show()\n",
    "plt.savefig(\"Images/Southern_Hemisphere_Cloudiness_vs_Latitude.png\")"
   ]
  },
  {
   "cell_type": "markdown",
   "metadata": {},
   "source": [
    "####  Northern Hemisphere - Wind Speed (mph) vs. Latitude Linear Regression"
   ]
  },
  {
   "cell_type": "code",
   "execution_count": 271,
   "metadata": {},
   "outputs": [
    {
     "name": "stdout",
     "output_type": "stream",
     "text": [
      "The r-value is: 0.07419493240061882\n"
     ]
    },
    {
     "data": {
      "image/png": "[encoded data removed]",
      "text/plain": [
       "<Figure size 432x288 with 1 Axes>"
      ]
     },
     "metadata": {
      "needs_background": "light"
     },
     "output_type": "display_data"
    },
    {
     "data": {
      "text/plain": [
       "<Figure size 432x288 with 0 Axes>"
      ]
     },
     "metadata": {},
     "output_type": "display_data"
    }
   ],
   "source": [
    "#Set x and y intercept values\n",
    "x_values = north_hem['Lat']\n",
    "y_values = north_hem['Wind Speed']\n",
    "\n",
    "# Perform a linear regression on temperature vs. latitude\n",
    "(slope, intercept, rvalue, pvalue, stderr) = stats.linregress(x_values, y_values)\n",
    "\n",
    "# Get regression values\n",
    "regress_values = x_values * slope + intercept\n",
    "\n",
    "# Create line equation string to add this to our plot\n",
    "line_eq = \"y = \" + str(round(slope,2)) + \"x +\" + str(round(intercept,2))\n",
    "# print(line_eq)\n",
    "\n",
    "#Create the plot\n",
    "plt.scatter(x_values,y_values)\n",
    "plt.plot(x_values,regress_values,\"r-\")\n",
    "\n",
    "# Label plot and annotate the line equation\n",
    "plt.xlabel('Latitude')\n",
    "plt.ylabel('Wind Speed')\n",
    "plt.annotate(line_eq,(10,20),fontsize=15,color=\"red\")\n",
    "plt.grid(True)\n",
    "plt.title('Northern Hemisphere: Wind Speed vs. Latitude')\n",
    "\n",
    "# Print r value\n",
    "print(f\"The r-value is: {rvalue**2}\")\n",
    "\n",
    "# Show plot\n",
    "plt.show()\n",
    "plt.savefig(\"Images/Northern_Hemisphere_Wind_Speed_vs_Latitude.png\")"
   ]
  },
  {
   "cell_type": "markdown",
   "metadata": {},
   "source": [
    "####  Southern Hemisphere - Wind Speed (mph) vs. Latitude Linear Regression"
   ]
  },
  {
   "cell_type": "code",
   "execution_count": 272,
   "metadata": {},
   "outputs": [
    {
     "name": "stdout",
     "output_type": "stream",
     "text": [
      "The r-value is: 0.02509215218189259\n"
     ]
    },
    {
     "data": {
      "image/png": "[encoded data removed]",
      "text/plain": [
       "<Figure size 432x288 with 1 Axes>"
      ]
     },
     "metadata": {
      "needs_background": "light"
     },
     "output_type": "display_data"
    },
    {
     "data": {
      "text/plain": [
       "<Figure size 432x288 with 0 Axes>"
      ]
     },
     "metadata": {},
     "output_type": "display_data"
    }
   ],
   "source": [
    "#Set x and y intercept values\n",
    "x_values = south_hem['Lat']\n",
    "y_values = south_hem['Wind Speed']\n",
    "\n",
    "# Perform a linear regression on temperature vs. latitude\n",
    "(slope, intercept, rvalue, pvalue, stderr) = stats.linregress(x_values, y_values)\n",
    "\n",
    "# Get regression values\n",
    "regress_values = x_values * slope + intercept\n",
    "\n",
    "# Create line equation string to add this to our plot\n",
    "line_eq = \"y = \" + str(round(slope,2)) + \"x +\" + str(round(intercept,2))\n",
    "# print(line_eq)\n",
    "\n",
    "#Create the plot\n",
    "plt.scatter(x_values,y_values)\n",
    "plt.plot(x_values,regress_values,\"r-\")\n",
    "\n",
    "# Label plot and annotate the line equation\n",
    "plt.xlabel('Latitude')\n",
    "plt.ylabel('Wind Speed')\n",
    "plt.annotate(line_eq,(-30,15),fontsize=15,color=\"red\")\n",
    "plt.grid(True)\n",
    "plt.title('Southern Hemisphere: Wind Speed vs. Latitude')\n",
    "plt.xlim(-15,-45)\n",
    "# Print r value\n",
    "print(f\"The r-value is: {rvalue**2}\")\n",
    "\n",
    "# Show plot\n",
    "plt.show()\n",
    "plt.savefig(\"Images/Southern_Hemisphere_Wind_Speed_vs_Latitude.png\")"
   ]
  },
  {
   "cell_type": "code",
   "execution_count": null,
   "metadata": {},
   "outputs": [],
   "source": []
  },
  {
   "cell_type": "code",
   "execution_count": null,
   "metadata": {},
   "outputs": [],
   "source": []
  }
 ],
 "metadata": {
  "anaconda-cloud": {},
  "kernel_info": {
   "name": "python3"
  },
  "kernelspec": {
   "display_name": "Python 3",
   "language": "python",
   "name": "python3"
  },
  "language_info": {
   "codemirror_mode": {
    "name": "ipython",
    "version": 3
   },
   "file_extension": ".py",
   "mimetype": "text/x-python",
   "name": "python",
   "nbconvert_exporter": "python",
   "pygments_lexer": "ipython3",
   "version": "3.6.13"
  },
  "latex_envs": {
   "LaTeX_envs_menu_present": true,
   "autoclose": false,
   "autocomplete": true,
   "bibliofile": "biblio.bib",
   "cite_by": "apalike",
   "current_citInitial": 1,
   "eqLabelWithNumbers": true,
   "eqNumInitial": 1,
   "hotkeys": {
    "equation": "Ctrl-E",
    "itemize": "Ctrl-I"
   },
   "labels_anchors": false,
   "latex_user_defs": false,
   "report_style_numbering": false,
   "user_envs_cfg": false
  },
  "nteract": {
   "version": "0.12.3"
  }
 },
 "nbformat": 4,
 "nbformat_minor": 2
}
