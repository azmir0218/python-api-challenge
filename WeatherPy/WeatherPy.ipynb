{
 "cells": [
  {
   "cell_type": "markdown",
   "metadata": {},
   "source": [
    "# WeatherPy\n",
    "----\n",
    "\n",
    "#### Note\n",
    "* Instructions have been included for each segment. You do not have to follow them exactly, but they are included to help you think through the steps."
   ]
  },
  {
   "cell_type": "markdown",
   "metadata": {},
   "source": [
    "#3 Conclusions from Data Set\n",
    "1. We can see as the latitude increases that the temperature decreases or gets cooler\n",
    "2. As the distance from the equator increases the wind speed slowly increases\n",
    "3. Humidity seems to be constant/equal across different latitudes "
   ]
  },
  {
   "cell_type": "code",
   "execution_count": 1,
   "metadata": {
    "scrolled": true
   },
   "outputs": [],
   "source": [
    "# Dependencies and Setup\n",
    "import matplotlib.pyplot as plt\n",
    "import pandas as pd\n",
    "import numpy as np\n",
    "import requests\n",
    "import time\n",
    "import json\n",
    "from scipy.stats import linregress\n",
    "from scipy import stats\n",
    "\n",
    "# Import API key\n",
    "from api_keys import weather_api_key\n",
    "\n",
    "# Incorporated citipy to determine city based on latitude and longitude\n",
    "from citipy import citipy\n",
    "\n",
    "# Output File (CSV)\n",
    "output_data_file = \"output_data/cities.csv\"\n",
    "\n",
    "# Range of latitudes and longitudes\n",
    "lat_range = (-90, 90)\n",
    "lng_range = (-180, 180)"
   ]
  },
  {
   "cell_type": "markdown",
   "metadata": {},
   "source": [
    "## Generate Cities List"
   ]
  },
  {
   "cell_type": "code",
   "execution_count": 2,
   "metadata": {},
   "outputs": [
    {
     "data": {
      "text/plain": [
       "606"
      ]
     },
     "execution_count": 2,
     "metadata": {},
     "output_type": "execute_result"
    }
   ],
   "source": [
    "# List for holding lat_lngs and cities\n",
    "lat_lngs = []\n",
    "cities = []\n",
    "\n",
    "\n",
    "# Create a set of random lat and lng combinations\n",
    "lats = np.random.uniform(lat_range[0], lat_range[1], size=1500)\n",
    "lngs = np.random.uniform(lng_range[0], lng_range[1], size=1500)\n",
    "lat_lngs = zip(lats, lngs)\n",
    "\n",
    "# Identify nearest city for each lat, lng combination\n",
    "for lat_lng in lat_lngs:\n",
    "    city = citipy.nearest_city(lat_lng[0], lat_lng[1]).city_name\n",
    "    \n",
    "    # If the city is unique, then add it to a our cities list\n",
    "    if city not in cities:\n",
    "        cities.append(city)\n",
    "\n",
    "# Print the city count to confirm sufficient count\n",
    "len(cities)"
   ]
  },
  {
   "cell_type": "code",
   "execution_count": 3,
   "metadata": {},
   "outputs": [
    {
     "name": "stdout",
     "output_type": "stream",
     "text": [
      "{\n",
      "    \"coord\": {\n",
      "        \"lon\": 15.3747,\n",
      "        \"lat\": 44.5461\n",
      "    },\n",
      "    \"weather\": [\n",
      "        {\n",
      "            \"id\": 804,\n",
      "            \"main\": \"Clouds\",\n",
      "            \"description\": \"overcast clouds\",\n",
      "            \"icon\": \"04n\"\n",
      "        }\n",
      "    ],\n",
      "    \"base\": \"stations\",\n",
      "    \"main\": {\n",
      "        \"temp\": 44.29,\n",
      "        \"feels_like\": 41.56,\n",
      "        \"temp_min\": 44.29,\n",
      "        \"temp_max\": 44.29,\n",
      "        \"pressure\": 1011,\n",
      "        \"humidity\": 93,\n",
      "        \"sea_level\": 1011,\n",
      "        \"grnd_level\": 945\n",
      "    },\n",
      "    \"visibility\": 10000,\n",
      "    \"wind\": {\n",
      "        \"speed\": 4.94,\n",
      "        \"deg\": 116,\n",
      "        \"gust\": 10.6\n",
      "    },\n",
      "    \"clouds\": {\n",
      "        \"all\": 100\n",
      "    },\n",
      "    \"dt\": 1637552073,\n",
      "    \"sys\": {\n",
      "        \"type\": 1,\n",
      "        \"id\": 6392,\n",
      "        \"country\": \"HR\",\n",
      "        \"sunrise\": 1637561056,\n",
      "        \"sunset\": 1637594723\n",
      "    },\n",
      "    \"timezone\": 3600,\n",
      "    \"id\": 3199873,\n",
      "    \"name\": \"Gospi\\u0107\",\n",
      "    \"cod\": 200\n",
      "}\n"
     ]
    }
   ],
   "source": [
    "url = \"http://api.openweathermap.org/data/2.5/weather?\"\n",
    "response_json = []\n",
    "units = \"imperial\"\n",
    "\n",
    "\n",
    "# Build partial query URL\n",
    "\n",
    "query_url = f\"{url}appid={weather_api_key}&units={units}&q=\"\n",
    "weather_response = requests.get(query_url + city)\n",
    "weather_json = weather_response.json()\n",
    "print(json.dumps(weather_json,indent=4))"
   ]
  },
  {
   "cell_type": "markdown",
   "metadata": {},
   "source": [
    "### Perform API Calls\n",
    "* Perform a weather check on each city using a series of successive API calls.\n",
    "* Include a print log of each city as it'sbeing processed (with the city number and city name). -->\n"
   ]
  },
  {
   "cell_type": "code",
   "execution_count": 4,
   "metadata": {
    "scrolled": false
   },
   "outputs": [
    {
     "name": "stdout",
     "output_type": "stream",
     "text": [
      "albany is on the list.\n",
      "tateyama is on the list.\n",
      "kavaratti is on the list.\n",
      "avarua is on the list.\n",
      "quesnel is on the list.\n",
      "chokurdakh is on the list.\n",
      "constitucion is on the list.\n",
      "killybegs is on the list.\n",
      "mataura is on the list.\n",
      "mar del plata is on the list.\n",
      "longyearbyen is on the list.\n",
      "ushuaia is on the list.\n",
      "The record does not exist\n",
      "khorramshahr is on the list.\n",
      "avera is on the list.\n",
      "The record does not exist\n",
      "geraldton is on the list.\n",
      "lompoc is on the list.\n",
      "banda aceh is on the list.\n",
      "lavrentiya is on the list.\n",
      "The record does not exist\n",
      "diplo is on the list.\n",
      "nome is on the list.\n",
      "new norfolk is on the list.\n",
      "rafai is on the list.\n",
      "georgetown is on the list.\n",
      "port macquarie is on the list.\n",
      "adrar is on the list.\n",
      "bathsheba is on the list.\n",
      "rikitea is on the list.\n",
      "tiksi is on the list.\n",
      "kirovskiy is on the list.\n",
      "ribeira grande is on the list.\n",
      "zdvinsk is on the list.\n",
      "yellowknife is on the list.\n",
      "seoul is on the list.\n",
      "castro is on the list.\n",
      "lagoa is on the list.\n",
      "The record does not exist\n",
      "punta arenas is on the list.\n",
      "miri is on the list.\n",
      "bagdarin is on the list.\n",
      "muskegon is on the list.\n",
      "pangnirtung is on the list.\n",
      "hamakita is on the list.\n",
      "doha is on the list.\n",
      "nanakuli is on the list.\n",
      "The record does not exist\n",
      "dikson is on the list.\n",
      "gigmoto is on the list.\n",
      "lhokseumawe is on the list.\n",
      "barrow is on the list.\n",
      "The record does not exist\n",
      "haines junction is on the list.\n",
      "conakry is on the list.\n",
      "kieta is on the list.\n",
      "cape town is on the list.\n",
      "The record does not exist\n",
      "samarai is on the list.\n",
      "akcakoca is on the list.\n",
      "ust-kuyga is on the list.\n",
      "The record does not exist\n",
      "The record does not exist\n",
      "atuona is on the list.\n",
      "mackay is on the list.\n",
      "nikolskoye is on the list.\n",
      "khatanga is on the list.\n",
      "saskylakh is on the list.\n",
      "constantine is on the list.\n",
      "zhigansk is on the list.\n",
      "grenfell is on the list.\n",
      "havre-saint-pierre is on the list.\n",
      "namibe is on the list.\n",
      "The record does not exist\n",
      "guerrero negro is on the list.\n",
      "honiara is on the list.\n",
      "vila velha is on the list.\n",
      "fortuna is on the list.\n",
      "jamestown is on the list.\n",
      "mutoko is on the list.\n",
      "busselton is on the list.\n",
      "bourail is on the list.\n",
      "kapaa is on the list.\n",
      "hilo is on the list.\n",
      "pyapon is on the list.\n",
      "beringovskiy is on the list.\n",
      "sinjar is on the list.\n",
      "bredasdorp is on the list.\n",
      "provideniya is on the list.\n",
      "qaanaaq is on the list.\n",
      "namatanai is on the list.\n",
      "bento goncalves is on the list.\n",
      "The record does not exist\n",
      "yerbogachen is on the list.\n",
      "upernavik is on the list.\n",
      "ponta do sol is on the list.\n",
      "vaini is on the list.\n",
      "hermanus is on the list.\n",
      "maldonado is on the list.\n",
      "tasiilaq is on the list.\n",
      "The record does not exist\n",
      "portland is on the list.\n",
      "vostok is on the list.\n",
      "high level is on the list.\n",
      "cidreira is on the list.\n",
      "sitka is on the list.\n",
      "jacareacanga is on the list.\n",
      "khasan is on the list.\n",
      "saint-philippe is on the list.\n",
      "belyy yar is on the list.\n",
      "waingapu is on the list.\n",
      "broken hill is on the list.\n",
      "chuy is on the list.\n",
      "marawi is on the list.\n",
      "The record does not exist\n",
      "The record does not exist\n",
      "hami is on the list.\n",
      "victoria is on the list.\n",
      "flinders is on the list.\n",
      "bambous virieux is on the list.\n",
      "poum is on the list.\n",
      "auki is on the list.\n",
      "alice springs is on the list.\n",
      "vao is on the list.\n",
      "yulara is on the list.\n",
      "boyolangu is on the list.\n",
      "husavik is on the list.\n",
      "kodiak is on the list.\n",
      "salalah is on the list.\n",
      "gao is on the list.\n",
      "port-gentil is on the list.\n",
      "vestmanna is on the list.\n",
      "xiongzhou is on the list.\n",
      "wladyslawowo is on the list.\n",
      "hobart is on the list.\n",
      "arraial do cabo is on the list.\n",
      "puerto ayora is on the list.\n",
      "ovalle is on the list.\n",
      "grand gaube is on the list.\n",
      "torbay is on the list.\n",
      "belaya gora is on the list.\n",
      "east london is on the list.\n",
      "The record does not exist\n",
      "urucara is on the list.\n",
      "The record does not exist\n",
      "koutiala is on the list.\n",
      "srednekolymsk is on the list.\n",
      "butaritari is on the list.\n",
      "abu kamal is on the list.\n",
      "bonavista is on the list.\n",
      "port lincoln is on the list.\n",
      "yoichi is on the list.\n",
      "luderitz is on the list.\n",
      "karangampel is on the list.\n",
      "tuktoyaktuk is on the list.\n",
      "bijie is on the list.\n",
      "severo-kurilsk is on the list.\n",
      "homer is on the list.\n",
      "kilindoni is on the list.\n",
      "papetoai is on the list.\n",
      "clyde river is on the list.\n",
      "saint albans is on the list.\n",
      "salamiyah is on the list.\n",
      "la crosse is on the list.\n",
      "The record does not exist\n",
      "praia da vitoria is on the list.\n",
      "san juan is on the list.\n",
      "abu samrah is on the list.\n",
      "kavieng is on the list.\n",
      "prudy is on the list.\n",
      "bluff is on the list.\n",
      "angoche is on the list.\n",
      "svetlogorsk is on the list.\n",
      "carnarvon is on the list.\n",
      "lodja is on the list.\n",
      "nanortalik is on the list.\n",
      "sabha is on the list.\n",
      "hithadhoo is on the list.\n",
      "talnakh is on the list.\n",
      "zainsk is on the list.\n",
      "The record does not exist\n",
      "souillac is on the list.\n",
      "la ronge is on the list.\n",
      "banjar is on the list.\n",
      "kemijarvi is on the list.\n",
      "kamenka is on the list.\n",
      "The record does not exist\n",
      "kaitangata is on the list.\n",
      "kenai is on the list.\n",
      "The record does not exist\n",
      "pacific grove is on the list.\n",
      "tuy hoa is on the list.\n",
      "port alfred is on the list.\n",
      "talara is on the list.\n",
      "koslan is on the list.\n",
      "kingaroy is on the list.\n",
      "marzuq is on the list.\n",
      "saldanha is on the list.\n",
      "itarema is on the list.\n",
      "kamaishi is on the list.\n",
      "asfi is on the list.\n",
      "pevek is on the list.\n",
      "thompson is on the list.\n",
      "tazovskiy is on the list.\n",
      "qaqortoq is on the list.\n",
      "leshukonskoye is on the list.\n",
      "goderich is on the list.\n",
      "port elizabeth is on the list.\n",
      "leningradskiy is on the list.\n",
      "pitimbu is on the list.\n",
      "klaksvik is on the list.\n",
      "paysandu is on the list.\n",
      "fort nelson is on the list.\n",
      "kautokeino is on the list.\n",
      "hyeres is on the list.\n",
      "The record does not exist\n",
      "garissa is on the list.\n",
      "sungaipenuh is on the list.\n",
      "evanton is on the list.\n",
      "port hardy is on the list.\n",
      "calvinia is on the list.\n",
      "la carolina is on the list.\n",
      "huangpi is on the list.\n",
      "princeton is on the list.\n",
      "cayenne is on the list.\n",
      "kahului is on the list.\n",
      "yar-sale is on the list.\n",
      "saint marys is on the list.\n",
      "matagami is on the list.\n",
      "den helder is on the list.\n",
      "aksehir is on the list.\n",
      "lundazi is on the list.\n",
      "comodoro rivadavia is on the list.\n",
      "The record does not exist\n",
      "pisco is on the list.\n",
      "cherskiy is on the list.\n",
      "laguna is on the list.\n",
      "berdigestyakh is on the list.\n",
      "sao filipe is on the list.\n",
      "barra patuca is on the list.\n",
      "nokaneng is on the list.\n",
      "nantucket is on the list.\n",
      "ikom is on the list.\n",
      "blackwater is on the list.\n",
      "The record does not exist\n",
      "The record does not exist\n",
      "nouadhibou is on the list.\n",
      "The record does not exist\n",
      "kaeo is on the list.\n",
      "tiznit is on the list.\n",
      "padang is on the list.\n",
      "rincon is on the list.\n",
      "aklavik is on the list.\n",
      "jalu is on the list.\n",
      "pangani is on the list.\n",
      "novoagansk is on the list.\n",
      "The record does not exist\n",
      "tomatlan is on the list.\n",
      "The record does not exist\n",
      "wilmington is on the list.\n",
      "shimoda is on the list.\n",
      "hofn is on the list.\n",
      "airai is on the list.\n",
      "cabo san lucas is on the list.\n",
      "totoral is on the list.\n",
      "harbin is on the list.\n",
      "The record does not exist\n",
      "new agutaya is on the list.\n",
      "vila is on the list.\n",
      "bontang is on the list.\n",
      "port hedland is on the list.\n",
      "ahipara is on the list.\n",
      "severodvinsk is on the list.\n",
      "el dorado is on the list.\n",
      "roxana is on the list.\n",
      "naze is on the list.\n",
      "santiago del estero is on the list.\n",
      "buala is on the list.\n",
      "onega is on the list.\n",
      "hovd is on the list.\n",
      "tabas is on the list.\n",
      "sept-iles is on the list.\n",
      "bambanglipuro is on the list.\n",
      "tatawin is on the list.\n",
      "rengo is on the list.\n",
      "zapolyarnyy is on the list.\n",
      "phan thiet is on the list.\n",
      "puerto del rosario is on the list.\n",
      "fremont is on the list.\n",
      "ciudad bolivar is on the list.\n",
      "alpena is on the list.\n",
      "The record does not exist\n",
      "faanui is on the list.\n",
      "soyo is on the list.\n",
      "lira is on the list.\n",
      "dalhousie is on the list.\n",
      "gainesville is on the list.\n",
      "strezhevoy is on the list.\n",
      "leua is on the list.\n",
      "luanda is on the list.\n",
      "mayo is on the list.\n",
      "hobyo is on the list.\n",
      "sambava is on the list.\n",
      "juneau is on the list.\n",
      "kristianstad is on the list.\n",
      "ancud is on the list.\n",
      "anadyr is on the list.\n",
      "bronnoysund is on the list.\n",
      "sembe is on the list.\n",
      "shingu is on the list.\n",
      "merauke is on the list.\n",
      "dongsheng is on the list.\n",
      "touros is on the list.\n",
      "rio grande is on the list.\n",
      "casanayan is on the list.\n",
      "mahebourg is on the list.\n",
      "bethel is on the list.\n",
      "nemuro is on the list.\n",
      "miquelon is on the list.\n",
      "yucca valley is on the list.\n",
      "santa isabel is on the list.\n",
      "solnechnyy is on the list.\n",
      "henties bay is on the list.\n"
     ]
    },
    {
     "name": "stdout",
     "output_type": "stream",
     "text": [
      "bilma is on the list.\n",
      "mazagao is on the list.\n",
      "adre is on the list.\n",
      "san patricio is on the list.\n",
      "hambantota is on the list.\n",
      "verin is on the list.\n",
      "ola is on the list.\n",
      "florence is on the list.\n",
      "oyama is on the list.\n",
      "lebu is on the list.\n",
      "ust-uda is on the list.\n",
      "tranas is on the list.\n",
      "iracoubo is on the list.\n",
      "michurinsk is on the list.\n",
      "kununurra is on the list.\n",
      "springville is on the list.\n",
      "vidim is on the list.\n",
      "The record does not exist\n",
      "alofi is on the list.\n",
      "yemtsa is on the list.\n",
      "ishinomaki is on the list.\n",
      "asau is on the list.\n",
      "tsaratanana is on the list.\n",
      "whitehorse is on the list.\n",
      "burns lake is on the list.\n",
      "udachnyy is on the list.\n",
      "jaguaribe is on the list.\n",
      "veraval is on the list.\n",
      "bengkulu is on the list.\n",
      "The record does not exist\n",
      "vestmannaeyjar is on the list.\n",
      "muros is on the list.\n",
      "colinas is on the list.\n",
      "narsaq is on the list.\n",
      "roma is on the list.\n",
      "yakuplu is on the list.\n",
      "basoko is on the list.\n",
      "quelimane is on the list.\n",
      "The record does not exist\n",
      "buchanan is on the list.\n",
      "piney green is on the list.\n",
      "imbituba is on the list.\n",
      "hervey bay is on the list.\n",
      "suixi is on the list.\n",
      "vila franca do campo is on the list.\n",
      "tuatapere is on the list.\n",
      "beloha is on the list.\n",
      "san alberto is on the list.\n",
      "herat is on the list.\n",
      "sao jose da coroa grande is on the list.\n",
      "ambon is on the list.\n",
      "westford is on the list.\n",
      "marsa matruh is on the list.\n",
      "college is on the list.\n",
      "pokhara is on the list.\n",
      "oskaloosa is on the list.\n",
      "ukiah is on the list.\n",
      "usinsk is on the list.\n",
      "barnsley is on the list.\n",
      "rio tuba is on the list.\n",
      "oliver is on the list.\n",
      "iqaluit is on the list.\n",
      "saint-pierre is on the list.\n",
      "japura is on the list.\n",
      "sorland is on the list.\n",
      "The record does not exist\n",
      "panguipulli is on the list.\n",
      "sfantu gheorghe is on the list.\n",
      "matara is on the list.\n",
      "bochnia is on the list.\n",
      "anloga is on the list.\n",
      "ilulissat is on the list.\n",
      "nanga eboko is on the list.\n",
      "tiarei is on the list.\n",
      "inverness is on the list.\n",
      "riorges is on the list.\n",
      "venado tuerto is on the list.\n",
      "zmeinogorsk is on the list.\n",
      "kipini is on the list.\n",
      "jawhar is on the list.\n",
      "kharagpur is on the list.\n",
      "The record does not exist\n",
      "shangqiu is on the list.\n",
      "sungai padi is on the list.\n",
      "kabalo is on the list.\n",
      "san cristobal is on the list.\n",
      "turukhansk is on the list.\n",
      "valdemarpils is on the list.\n",
      "primorsk is on the list.\n",
      "petrozavodsk is on the list.\n",
      "riachao do jacuipe is on the list.\n",
      "kamyaran is on the list.\n",
      "hay river is on the list.\n",
      "chippewa falls is on the list.\n",
      "oriximina is on the list.\n",
      "letpadan is on the list.\n",
      "livingston is on the list.\n",
      "sao joao da barra is on the list.\n",
      "ak-dovurak is on the list.\n",
      "hamilton is on the list.\n",
      "evansville is on the list.\n",
      "faya is on the list.\n",
      "berlevag is on the list.\n",
      "necochea is on the list.\n",
      "kungurtug is on the list.\n",
      "chistogorskiy is on the list.\n",
      "san vicente is on the list.\n",
      "itamaraju is on the list.\n",
      "The record does not exist\n",
      "moultrie is on the list.\n",
      "kloulklubed is on the list.\n",
      "acri is on the list.\n",
      "vardo is on the list.\n",
      "lorengau is on the list.\n",
      "slave lake is on the list.\n",
      "kachiry is on the list.\n",
      "lasa is on the list.\n",
      "lisakovsk is on the list.\n",
      "taoudenni is on the list.\n",
      "turtas is on the list.\n",
      "oussouye is on the list.\n",
      "tuxtepec is on the list.\n",
      "sherlovaya gora is on the list.\n",
      "chiriqui grande is on the list.\n",
      "awjilah is on the list.\n",
      "esperance is on the list.\n",
      "kruglolesskoye is on the list.\n",
      "yeppoon is on the list.\n",
      "ballina is on the list.\n",
      "The record does not exist\n",
      "menongue is on the list.\n",
      "zinder is on the list.\n",
      "abalak is on the list.\n",
      "bom sucesso is on the list.\n",
      "lujiang is on the list.\n",
      "chhoti sadri is on the list.\n",
      "xining is on the list.\n",
      "zambezi is on the list.\n",
      "chapais is on the list.\n",
      "stralsund is on the list.\n",
      "northam is on the list.\n",
      "ahome is on the list.\n",
      "meulaboh is on the list.\n",
      "tingo maria is on the list.\n",
      "The record does not exist\n",
      "san pedro de ycuamandiyu is on the list.\n",
      "prabumulih is on the list.\n",
      "xinmin is on the list.\n",
      "diapaga is on the list.\n",
      "dingle is on the list.\n",
      "bytow is on the list.\n",
      "bay roberts is on the list.\n",
      "jiangyin is on the list.\n",
      "watsa is on the list.\n",
      "lazaro cardenas is on the list.\n",
      "komsomolskoye is on the list.\n",
      "sangar is on the list.\n",
      "ponta delgada is on the list.\n",
      "port blair is on the list.\n",
      "sabang is on the list.\n",
      "krasnoselkup is on the list.\n",
      "The record does not exist\n",
      "coffs harbour is on the list.\n",
      "aksarka is on the list.\n",
      "along is on the list.\n",
      "westport is on the list.\n",
      "atbasar is on the list.\n",
      "tarancon is on the list.\n",
      "The record does not exist\n",
      "saint-augustin is on the list.\n",
      "The record does not exist\n",
      "atar is on the list.\n",
      "shawnee is on the list.\n",
      "jensen beach is on the list.\n",
      "vagur is on the list.\n",
      "karwar is on the list.\n",
      "moranbah is on the list.\n",
      "havelock is on the list.\n",
      "balkanabat is on the list.\n",
      "kuybysheve is on the list.\n",
      "aljezur is on the list.\n",
      "ucluelet is on the list.\n",
      "hermosillo is on the list.\n",
      "tarakan is on the list.\n",
      "naryan-mar is on the list.\n",
      "hirara is on the list.\n",
      "tabou is on the list.\n",
      "The record does not exist\n",
      "gat is on the list.\n",
      "cerrito is on the list.\n",
      "altay is on the list.\n",
      "deputatskiy is on the list.\n",
      "gwanda is on the list.\n",
      "gushikawa is on the list.\n",
      "kutum is on the list.\n",
      "say is on the list.\n",
      "pilar is on the list.\n",
      "isangel is on the list.\n",
      "riyadh is on the list.\n",
      "rio gallegos is on the list.\n",
      "pelaya is on the list.\n",
      "mizusawa is on the list.\n",
      "mehamn is on the list.\n",
      "The record does not exist\n",
      "brest is on the list.\n",
      "visby is on the list.\n",
      "dedovichi is on the list.\n",
      "jumla is on the list.\n",
      "port keats is on the list.\n",
      "catamarca is on the list.\n",
      "kalianget is on the list.\n",
      "freeport is on the list.\n",
      "kruisfontein is on the list.\n",
      "statesboro is on the list.\n",
      "The record does not exist\n",
      "santiago is on the list.\n",
      "santa isabel do rio negro is on the list.\n",
      "acapulco is on the list.\n",
      "pemangkat is on the list.\n",
      "saint george is on the list.\n",
      "bac lieu is on the list.\n",
      "viljoenskroon is on the list.\n",
      "prince george is on the list.\n",
      "taksimo is on the list.\n",
      "bunia is on the list.\n",
      "maceio is on the list.\n",
      "aswan is on the list.\n",
      "The record does not exist\n",
      "gorontalo is on the list.\n",
      "hasaki is on the list.\n",
      "soloneshnoye is on the list.\n",
      "kailua is on the list.\n",
      "kushima is on the list.\n",
      "bandarbeyla is on the list.\n",
      "manicore is on the list.\n",
      "hammerfest is on the list.\n",
      "carutapera is on the list.\n",
      "kashary is on the list.\n",
      "nioro is on the list.\n",
      "shache is on the list.\n",
      "saurimo is on the list.\n",
      "patiya is on the list.\n",
      "sorong is on the list.\n",
      "areka is on the list.\n",
      "fengcheng is on the list.\n",
      "amapa is on the list.\n",
      "kuressaare is on the list.\n",
      "daru is on the list.\n",
      "kiama is on the list.\n",
      "khorixas is on the list.\n",
      "half moon bay is on the list.\n",
      "ngunguru is on the list.\n",
      "santa rosa is on the list.\n",
      "kingston is on the list.\n",
      "melendugno is on the list.\n",
      "matamoros is on the list.\n",
      "lovington is on the list.\n",
      "trairi is on the list.\n",
      "los llanos de aridane is on the list.\n",
      "The record does not exist\n",
      "tambo is on the list.\n",
      "ahuimanu is on the list.\n",
      "satana is on the list.\n",
      "The record does not exist\n",
      "norman wells is on the list.\n",
      "sulangan is on the list.\n",
      "quang ngai is on the list.\n",
      "wanaka is on the list.\n",
      "concepcion del oro is on the list.\n",
      "The record does not exist\n",
      "laranja da terra is on the list.\n",
      "olafsvik is on the list.\n",
      "batagay is on the list.\n",
      "esmeraldas is on the list.\n",
      "redlands is on the list.\n",
      "The record does not exist\n",
      "ludvika is on the list.\n",
      "ucar is on the list.\n",
      "chihuahua is on the list.\n",
      "ingham is on the list.\n",
      "ambanja is on the list.\n",
      "The record does not exist\n",
      "gospic is on the list.\n"
     ]
    }
   ],
   "source": [
    "latitude=[]\n",
    "longitude=[]\n",
    "temp_max=[]\n",
    "humidity=[]\n",
    "clouds=[]\n",
    "wind_speeds=[]\n",
    "countries=[]\n",
    "date=[]\n",
    "city_names=[]\n",
    "\n",
    "for city in cities:\n",
    "    response_json = requests.get(query_url + city).json()\n",
    "#     print(json.dumps(response_json, indent = 4, sort_keys = True))\n",
    "#     break\n",
    "    \n",
    "    try:\n",
    "        city_name=response_json[\"name\"]\n",
    "        city_names.append(city)\n",
    "        lati=response_json[\"coord\"][\"lat\"]\n",
    "        latitude.append(lati)\n",
    "        long=response_json[\"coord\"][\"lon\"]\n",
    "        longitude.append(long)\n",
    "        temperature=response_json[\"main\"][\"temp\"]\n",
    "        temp_max.append(temperature)\n",
    "        hum=response_json[\"main\"][\"humidity\"]\n",
    "        humidity.append(hum)\n",
    "        cld= response_json[\"clouds\"][\"all\"]\n",
    "        clouds.append(cld)\n",
    "        wind=response_json[\"wind\"][\"speed\"]\n",
    "        wind_speeds.append(wind)\n",
    "        cntr=response_json[\"sys\"][\"country\"]\n",
    "        countries.append(cntr)\n",
    "        dt=response_json[\"dt\"]\n",
    "        date.append(dt)\n",
    "        print(f\"{city} is on the list.\")\n",
    "        \n",
    "        \n",
    "    except(KeyError,IndexError):\n",
    "        print(\"The record does not exist\")\n"
   ]
  },
  {
   "cell_type": "code",
   "execution_count": 5,
   "metadata": {},
   "outputs": [],
   "source": [
    "# print(len(lat),len(lon),len(temp_max),len(humidity),len(cloud),len(wind_speed),len(country),len(date),len(city_names))"
   ]
  },
  {
   "cell_type": "markdown",
   "metadata": {},
   "source": [
    "<!--  Convert Raw Data to DataFrame -->\n",
    "* Export the city data into a .csv.\n",
    "* Display the DataFrame"
   ]
  },
  {
   "cell_type": "code",
   "execution_count": 6,
   "metadata": {},
   "outputs": [
    {
     "data": {
      "text/html": [
       "<div>\n",
       "<style scoped>\n",
       "    .dataframe tbody tr th:only-of-type {\n",
       "        vertical-align: middle;\n",
       "    }\n",
       "\n",
       "    .dataframe tbody tr th {\n",
       "        vertical-align: top;\n",
       "    }\n",
       "\n",
       "    .dataframe thead th {\n",
       "        text-align: right;\n",
       "    }\n",
       "</style>\n",
       "<table border=\"1\" class=\"dataframe\">\n",
       "  <thead>\n",
       "    <tr style=\"text-align: right;\">\n",
       "      <th></th>\n",
       "      <th>City</th>\n",
       "      <th>Lat</th>\n",
       "      <th>Lng</th>\n",
       "      <th>Max Temp</th>\n",
       "      <th>Humidity</th>\n",
       "      <th>Cloudiness</th>\n",
       "      <th>Wind Speed</th>\n",
       "      <th>Country</th>\n",
       "      <th>Date</th>\n",
       "    </tr>\n",
       "  </thead>\n",
       "  <tbody>\n",
       "    <tr>\n",
       "      <th>0</th>\n",
       "      <td>albany</td>\n",
       "      <td>42.6001</td>\n",
       "      <td>-73.9662</td>\n",
       "      <td>45.55</td>\n",
       "      <td>75</td>\n",
       "      <td>100</td>\n",
       "      <td>6.93</td>\n",
       "      <td>US</td>\n",
       "      <td>1637551788</td>\n",
       "    </tr>\n",
       "    <tr>\n",
       "      <th>1</th>\n",
       "      <td>tateyama</td>\n",
       "      <td>34.9833</td>\n",
       "      <td>139.8667</td>\n",
       "      <td>62.67</td>\n",
       "      <td>88</td>\n",
       "      <td>75</td>\n",
       "      <td>4.61</td>\n",
       "      <td>JP</td>\n",
       "      <td>1637552074</td>\n",
       "    </tr>\n",
       "    <tr>\n",
       "      <th>2</th>\n",
       "      <td>kavaratti</td>\n",
       "      <td>10.5669</td>\n",
       "      <td>72.6420</td>\n",
       "      <td>80.64</td>\n",
       "      <td>74</td>\n",
       "      <td>30</td>\n",
       "      <td>2.68</td>\n",
       "      <td>IN</td>\n",
       "      <td>1637552075</td>\n",
       "    </tr>\n",
       "    <tr>\n",
       "      <th>3</th>\n",
       "      <td>avarua</td>\n",
       "      <td>-21.2078</td>\n",
       "      <td>-159.7750</td>\n",
       "      <td>82.45</td>\n",
       "      <td>69</td>\n",
       "      <td>90</td>\n",
       "      <td>5.75</td>\n",
       "      <td>CK</td>\n",
       "      <td>1637552076</td>\n",
       "    </tr>\n",
       "    <tr>\n",
       "      <th>4</th>\n",
       "      <td>quesnel</td>\n",
       "      <td>52.9999</td>\n",
       "      <td>-122.5029</td>\n",
       "      <td>37.90</td>\n",
       "      <td>87</td>\n",
       "      <td>90</td>\n",
       "      <td>8.05</td>\n",
       "      <td>CA</td>\n",
       "      <td>1637551894</td>\n",
       "    </tr>\n",
       "  </tbody>\n",
       "</table>\n",
       "</div>"
      ],
      "text/plain": [
       "        City      Lat       Lng  Max Temp  Humidity  Cloudiness  Wind Speed  \\\n",
       "0     albany  42.6001  -73.9662     45.55        75         100        6.93   \n",
       "1   tateyama  34.9833  139.8667     62.67        88          75        4.61   \n",
       "2  kavaratti  10.5669   72.6420     80.64        74          30        2.68   \n",
       "3     avarua -21.2078 -159.7750     82.45        69          90        5.75   \n",
       "4    quesnel  52.9999 -122.5029     37.90        87          90        8.05   \n",
       "\n",
       "  Country        Date  \n",
       "0      US  1637551788  \n",
       "1      JP  1637552074  \n",
       "2      IN  1637552075  \n",
       "3      CK  1637552076  \n",
       "4      CA  1637551894  "
      ]
     },
     "execution_count": 6,
     "metadata": {},
     "output_type": "execute_result"
    }
   ],
   "source": [
    "city_df=pd.DataFrame({\"City\":city_names,\"Lat\":latitude,\"Lng\":longitude,\"Max Temp\":temp_max,\"Humidity\":humidity,\"Cloudiness\":clouds,\n",
    "            \"Wind Speed\":wind_speeds,\"Country\":countries,\"Date\":date})\n",
    "\n",
    "city_df.head()"
   ]
  },
  {
   "cell_type": "code",
   "execution_count": 7,
   "metadata": {},
   "outputs": [],
   "source": [
    "city_df.to_csv(\"../output_data/cities.csv\",index=False)"
   ]
  },
  {
   "cell_type": "markdown",
   "metadata": {},
   "source": [
    "## Plotting the Data\n",
    "* Use proper labeling of the plots using plot titles (including date of analysis) and axes labels.\n",
    "* Save the plotted figures as .pngs."
   ]
  },
  {
   "cell_type": "markdown",
   "metadata": {},
   "source": [
    "## Latitude vs. Temperature Plot"
   ]
  },
  {
   "cell_type": "code",
   "execution_count": 8,
   "metadata": {
    "scrolled": true
   },
   "outputs": [
    {
     "data": {
      "image/png": "[encoded data removed]",
      "text/plain": [
       "<Figure size 432x288 with 1 Axes>"
      ]
     },
     "metadata": {
      "needs_background": "light"
     },
     "output_type": "display_data"
    }
   ],
   "source": [
    "x_values = city_df[\"Lat\"]\n",
    "y_values = city_df['Max Temp']\n",
    "plt.scatter(x_values,y_values)\n",
    "plt.xlabel('Latitude')\n",
    "plt.ylabel('Temperature')\n",
    "plt.title('Latitude vs. Temperature')\n",
    "plt.grid(True)\n",
    "plt.savefig(\"Latitude_vs_Temperature.png\")\n",
    "plt.show()\n"
   ]
  },
  {
   "cell_type": "markdown",
   "metadata": {},
   "source": [
    "## Latitude vs. Humidity Plot"
   ]
  },
  {
   "cell_type": "code",
   "execution_count": 9,
   "metadata": {},
   "outputs": [
    {
     "data": {
      "image/png": "[encoded data removed]",
      "text/plain": [
       "<Figure size 432x288 with 1 Axes>"
      ]
     },
     "metadata": {
      "needs_background": "light"
     },
     "output_type": "display_data"
    }
   ],
   "source": [
    "x_values = city_df[\"Lat\"]\n",
    "y_values = city_df['Humidity']\n",
    "plt.scatter(x_values,y_values)\n",
    "plt.xlabel('Latitude')\n",
    "plt.ylabel('Humidity')\n",
    "plt.title('Latitude vs. Humidity')\n",
    "plt.grid(True)\n",
    "plt.savefig(\"Images/Latitude_vs_Humidity.png\")\n",
    "plt.show()\n"
   ]
  },
  {
   "cell_type": "markdown",
   "metadata": {},
   "source": [
    "## Latitude vs. Cloudiness Plot"
   ]
  },
  {
   "cell_type": "code",
   "execution_count": 10,
   "metadata": {},
   "outputs": [
    {
     "data": {
      "image/png": "[encoded data removed]",
      "text/plain": [
       "<Figure size 432x288 with 1 Axes>"
      ]
     },
     "metadata": {
      "needs_background": "light"
     },
     "output_type": "display_data"
    }
   ],
   "source": [
    "x_values = city_df[\"Lat\"]\n",
    "y_values = city_df['Cloudiness']\n",
    "plt.scatter(x_values,y_values)\n",
    "plt.xlabel('Latitude')\n",
    "plt.ylabel('Cloudiness')\n",
    "plt.title('Latitude vs. Cloudiness')\n",
    "plt.grid(True)\n",
    "plt.savefig(\"Images/Latitude_vs_Cloudiness.png\")\n",
    "plt.show()\n"
   ]
  },
  {
   "cell_type": "markdown",
   "metadata": {},
   "source": [
    "## Latitude vs. Wind Speed Plot"
   ]
  },
  {
   "cell_type": "code",
   "execution_count": 11,
   "metadata": {},
   "outputs": [
    {
     "data": {
      "image/png": "[encoded data removed]",
      "text/plain": [
       "<Figure size 432x288 with 1 Axes>"
      ]
     },
     "metadata": {
      "needs_background": "light"
     },
     "output_type": "display_data"
    }
   ],
   "source": [
    "x_values = city_df[\"Lat\"]\n",
    "y_values = city_df['Wind Speed']\n",
    "plt.scatter(x_values,y_values)\n",
    "plt.xlabel('Latitude')\n",
    "plt.ylabel('Wind Speed')\n",
    "plt.title('Latitude vs. Wind Speed')\n",
    "plt.grid(True)\n",
    "plt.savefig(\"Images/Latitude_vs_Wind Speed.png\")\n",
    "plt.show()\n"
   ]
  },
  {
   "cell_type": "markdown",
   "metadata": {},
   "source": [
    "## Linear Regression"
   ]
  },
  {
   "cell_type": "code",
   "execution_count": 12,
   "metadata": {},
   "outputs": [
    {
     "data": {
      "text/html": [
       "<div>\n",
       "<style scoped>\n",
       "    .dataframe tbody tr th:only-of-type {\n",
       "        vertical-align: middle;\n",
       "    }\n",
       "\n",
       "    .dataframe tbody tr th {\n",
       "        vertical-align: top;\n",
       "    }\n",
       "\n",
       "    .dataframe thead th {\n",
       "        text-align: right;\n",
       "    }\n",
       "</style>\n",
       "<table border=\"1\" class=\"dataframe\">\n",
       "  <thead>\n",
       "    <tr style=\"text-align: right;\">\n",
       "      <th></th>\n",
       "      <th>City</th>\n",
       "      <th>Lat</th>\n",
       "      <th>Lng</th>\n",
       "      <th>Max Temp</th>\n",
       "      <th>Humidity</th>\n",
       "      <th>Cloudiness</th>\n",
       "      <th>Wind Speed</th>\n",
       "      <th>Country</th>\n",
       "      <th>Date</th>\n",
       "    </tr>\n",
       "  </thead>\n",
       "  <tbody>\n",
       "    <tr>\n",
       "      <th>3</th>\n",
       "      <td>avarua</td>\n",
       "      <td>-21.2078</td>\n",
       "      <td>-159.7750</td>\n",
       "      <td>82.45</td>\n",
       "      <td>69</td>\n",
       "      <td>90</td>\n",
       "      <td>5.75</td>\n",
       "      <td>CK</td>\n",
       "      <td>1637552076</td>\n",
       "    </tr>\n",
       "    <tr>\n",
       "      <th>6</th>\n",
       "      <td>constitucion</td>\n",
       "      <td>-35.3333</td>\n",
       "      <td>-72.4167</td>\n",
       "      <td>57.88</td>\n",
       "      <td>72</td>\n",
       "      <td>2</td>\n",
       "      <td>9.04</td>\n",
       "      <td>CL</td>\n",
       "      <td>1637551876</td>\n",
       "    </tr>\n",
       "    <tr>\n",
       "      <th>8</th>\n",
       "      <td>mataura</td>\n",
       "      <td>-46.1927</td>\n",
       "      <td>168.8643</td>\n",
       "      <td>54.09</td>\n",
       "      <td>81</td>\n",
       "      <td>100</td>\n",
       "      <td>1.92</td>\n",
       "      <td>NZ</td>\n",
       "      <td>1637552079</td>\n",
       "    </tr>\n",
       "    <tr>\n",
       "      <th>9</th>\n",
       "      <td>mar del plata</td>\n",
       "      <td>-38.0023</td>\n",
       "      <td>-57.5575</td>\n",
       "      <td>63.55</td>\n",
       "      <td>80</td>\n",
       "      <td>0</td>\n",
       "      <td>0.00</td>\n",
       "      <td>AR</td>\n",
       "      <td>1637552080</td>\n",
       "    </tr>\n",
       "    <tr>\n",
       "      <th>11</th>\n",
       "      <td>ushuaia</td>\n",
       "      <td>-54.8000</td>\n",
       "      <td>-68.3000</td>\n",
       "      <td>35.26</td>\n",
       "      <td>80</td>\n",
       "      <td>90</td>\n",
       "      <td>31.07</td>\n",
       "      <td>AR</td>\n",
       "      <td>1637551793</td>\n",
       "    </tr>\n",
       "  </tbody>\n",
       "</table>\n",
       "</div>"
      ],
      "text/plain": [
       "             City      Lat       Lng  Max Temp  Humidity  Cloudiness  \\\n",
       "3          avarua -21.2078 -159.7750     82.45        69          90   \n",
       "6    constitucion -35.3333  -72.4167     57.88        72           2   \n",
       "8         mataura -46.1927  168.8643     54.09        81         100   \n",
       "9   mar del plata -38.0023  -57.5575     63.55        80           0   \n",
       "11        ushuaia -54.8000  -68.3000     35.26        80          90   \n",
       "\n",
       "    Wind Speed Country        Date  \n",
       "3         5.75      CK  1637552076  \n",
       "6         9.04      CL  1637551876  \n",
       "8         1.92      NZ  1637552079  \n",
       "9         0.00      AR  1637552080  \n",
       "11       31.07      AR  1637551793  "
      ]
     },
     "execution_count": 12,
     "metadata": {},
     "output_type": "execute_result"
    }
   ],
   "source": [
    "north_hem= city_df.loc[city_df[\"Lat\"]>=0]\n",
    "\n",
    "south_hem= city_df.loc[city_df[\"Lat\"]<0]\n",
    "\n",
    "south_hem.head()"
   ]
  },
  {
   "cell_type": "markdown",
   "metadata": {},
   "source": [
    "####  Northern Hemisphere - Max Temp vs. Latitude Linear Regression"
   ]
  },
  {
   "cell_type": "code",
   "execution_count": 13,
   "metadata": {},
   "outputs": [
    {
     "name": "stdout",
     "output_type": "stream",
     "text": [
      "The r-value is: 0.7873461100497064\n"
     ]
    },
    {
     "data": {
      "image/png": "[encoded data removed]",
      "text/plain": [
       "<Figure size 432x288 with 1 Axes>"
      ]
     },
     "metadata": {
      "needs_background": "light"
     },
     "output_type": "display_data"
    }
   ],
   "source": [
    "#Set x and y intercept values\n",
    "x_values = north_hem['Lat']\n",
    "y_values = north_hem['Max Temp']\n",
    "\n",
    "# Perform a linear regression on temperature vs. latitude\n",
    "(slope, intercept, rvalue, pvalue, stderr) = stats.linregress(x_values, y_values)\n",
    "\n",
    "# Get regression values\n",
    "regress_values = x_values * slope + intercept\n",
    "\n",
    "\n",
    "# Create line equation string to add this to our plot\n",
    "line_eq = \"y = \" + str(round(slope,2)) + \"x +\" + str(round(intercept,2))\n",
    "# print(line_eq)\n",
    "\n",
    "#Create the plot\n",
    "plt.scatter(x_values,y_values)\n",
    "plt.plot(x_values,regress_values,\"r-\")\n",
    "\n",
    "# Label plot and annotate the line equation\n",
    "plt.xlabel('Latitude')\n",
    "plt.ylabel('Temperature')\n",
    "plt.annotate(line_eq,(40,15),fontsize=15,color=\"red\")\n",
    "plt.grid(True)\n",
    "plt.title('Northern Hemisphere: Temperature vs. Latitude')\n",
    "\n",
    "# Print r value\n",
    "print(f\"The r-value is: {rvalue**2}\")\n",
    "\n",
    "# Show plot\n",
    "plt.savefig(\"Images/Northern_Hemisphere_Temperature_vs_Latitude.png\")\n",
    "plt.show()\n"
   ]
  },
  {
   "cell_type": "markdown",
   "metadata": {},
   "source": [
    "####  Southern Hemisphere - Max Temp vs. Latitude Linear Regression"
   ]
  },
  {
   "cell_type": "code",
   "execution_count": 14,
   "metadata": {},
   "outputs": [
    {
     "name": "stdout",
     "output_type": "stream",
     "text": [
      "The r-value is: 0.38623682089168\n"
     ]
    },
    {
     "data": {
      "image/png": "[encoded data removed]",
      "text/plain": [
       "<Figure size 432x288 with 1 Axes>"
      ]
     },
     "metadata": {
      "needs_background": "light"
     },
     "output_type": "display_data"
    }
   ],
   "source": [
    "#Set x and y intercept values\n",
    "x_values = south_hem['Lat']\n",
    "y_values = south_hem['Max Temp']\n",
    "\n",
    "# Perform a linear regression on temperature vs. latitude\n",
    "(slope, intercept, rvalue, pvalue, stderr) = stats.linregress(x_values, y_values)\n",
    "\n",
    "# Get regression values\n",
    "regress_values = x_values * slope + intercept\n",
    "\n",
    "# Create line equation string to add this to our plot\n",
    "line_eq = \"y = \" + str(round(slope,2)) + \"x +\" + str(round(intercept,2))\n",
    "# print(line_eq)\n",
    "\n",
    "#Create the plot\n",
    "plt.scatter(x_values,y_values)\n",
    "plt.plot(x_values,regress_values,\"r-\")\n",
    "\n",
    "# Label plot and annotate the line equation\n",
    "plt.xlabel('Latitude')\n",
    "plt.ylabel('Temperature')\n",
    "plt.annotate(line_eq,(-20,50),fontsize=15,color=\"red\")\n",
    "plt.grid(True)\n",
    "plt.title('Southern Hemisphere: Temperature vs. Latitude')\n",
    "plt.xlim(0,-50)\n",
    "# Print r value\n",
    "print(f\"The r-value is: {rvalue**2}\")\n",
    "\n",
    "# Show plot\n",
    "plt.savefig(\"Images/Southern_Hemisphere_Temperature_s_Latitude.png\")\n",
    "plt.show()\n"
   ]
  },
  {
   "cell_type": "markdown",
   "metadata": {},
   "source": [
    "####  Northern Hemisphere - Humidity (%) vs. Latitude Linear Regression"
   ]
  },
  {
   "cell_type": "code",
   "execution_count": 15,
   "metadata": {},
   "outputs": [
    {
     "name": "stdout",
     "output_type": "stream",
     "text": [
      "The r-value is: 0.09448641312769912\n"
     ]
    },
    {
     "data": {
      "image/png": "[encoded data removed]",
      "text/plain": [
       "<Figure size 432x288 with 1 Axes>"
      ]
     },
     "metadata": {
      "needs_background": "light"
     },
     "output_type": "display_data"
    }
   ],
   "source": [
    "#Set x and y intercept values\n",
    "x_values = north_hem['Lat']\n",
    "y_values = north_hem['Humidity']\n",
    "\n",
    "# Perform a linear regression on temperature vs. latitude\n",
    "(slope, intercept, rvalue, pvalue, stderr) = stats.linregress(x_values, y_values)\n",
    "\n",
    "# Get regression values\n",
    "regress_values = x_values * slope + intercept\n",
    "\n",
    "# Create line equation string to add this to our plot\n",
    "line_eq = \"y = \" + str(round(slope,2)) + \"x +\" + str(round(intercept,2))\n",
    "# print(line_eq)\n",
    "\n",
    "#Create the plot\n",
    "plt.scatter(x_values,y_values)\n",
    "plt.plot(x_values,regress_values,\"r-\")\n",
    "\n",
    "# Label plot and annotate the line equation\n",
    "plt.xlabel('Latitude')\n",
    "plt.ylabel('Humidity')\n",
    "plt.annotate(line_eq,(20,30),fontsize=15,color=\"red\")\n",
    "plt.grid(True)\n",
    "plt.title('Northern Hemisphere: Humidity vs. Latitude')\n",
    "\n",
    "# Print r value\n",
    "print(f\"The r-value is: {rvalue**2}\")\n",
    "\n",
    "# Show plot\n",
    "plt.savefig(\"Images/Northern_Hemisphere_Humidity_vs_Latitude.png\")\n",
    "plt.show()\n"
   ]
  },
  {
   "cell_type": "markdown",
   "metadata": {},
   "source": [
    "####  Southern Hemisphere - Humidity (%) vs. Latitude Linear Regression"
   ]
  },
  {
   "cell_type": "code",
   "execution_count": 16,
   "metadata": {},
   "outputs": [
    {
     "name": "stdout",
     "output_type": "stream",
     "text": [
      "The r-value is: 0.02664518563389192\n"
     ]
    },
    {
     "data": {
      "image/png": "[encoded data removed]",
      "text/plain": [
       "<Figure size 432x288 with 1 Axes>"
      ]
     },
     "metadata": {
      "needs_background": "light"
     },
     "output_type": "display_data"
    }
   ],
   "source": [
    "#Set x and y intercept values\n",
    "x_values = south_hem['Lat']\n",
    "y_values = south_hem['Humidity']\n",
    "\n",
    "# Perform a linear regression on temperature vs. latitude\n",
    "(slope, intercept, rvalue, pvalue, stderr) = stats.linregress(x_values, y_values)\n",
    "\n",
    "# Get regression values\n",
    "regress_values = x_values * slope + intercept\n",
    "\n",
    "# Create line equation string to add this to our plot\n",
    "line_eq = \"y = \" + str(round(slope,2)) + \"x +\" + str(round(intercept,2))\n",
    "# print(line_eq)\n",
    "\n",
    "#Create the plot\n",
    "plt.scatter(x_values,y_values)\n",
    "plt.plot(x_values,regress_values,\"r-\")\n",
    "\n",
    "# Label plot and annotate the line equation\n",
    "plt.xlabel('Latitude')\n",
    "plt.ylabel('Humidity')\n",
    "plt.annotate(line_eq,(-30,25),fontsize=15,color=\"red\")\n",
    "plt.grid(True)\n",
    "plt.title('Southern Hemisphere: Humidity vs. Latitude')\n",
    "plt.xlim(-15,-45)\n",
    "# Print r value\n",
    "print(f\"The r-value is: {rvalue**2}\")\n",
    "\n",
    "# Show plot\n",
    "plt.savefig(\"Images/Southern_Hemisphere_Humidity_vs_Latitude.png\")\n",
    "plt.show()\n"
   ]
  },
  {
   "cell_type": "markdown",
   "metadata": {},
   "source": [
    "####  Northern Hemisphere - Cloudiness (%) vs. Latitude Linear Regression"
   ]
  },
  {
   "cell_type": "code",
   "execution_count": 17,
   "metadata": {},
   "outputs": [
    {
     "name": "stdout",
     "output_type": "stream",
     "text": [
      "The r-value is: 0.030371903530175236\n"
     ]
    },
    {
     "data": {
      "image/png": "[encoded data removed]",
      "text/plain": [
       "<Figure size 432x288 with 1 Axes>"
      ]
     },
     "metadata": {
      "needs_background": "light"
     },
     "output_type": "display_data"
    }
   ],
   "source": [
    "#Set x and y intercept values\n",
    "x_values = north_hem['Lat']\n",
    "y_values = north_hem['Cloudiness']\n",
    "\n",
    "# Perform a linear regression on temperature vs. latitude\n",
    "(slope, intercept, rvalue, pvalue, stderr) = stats.linregress(x_values, y_values)\n",
    "\n",
    "# Get regression values\n",
    "regress_values = x_values * slope + intercept\n",
    "\n",
    "# Create line equation string to add this to our plot\n",
    "line_eq = \"y = \" + str(round(slope,2)) + \"x +\" + str(round(intercept,2))\n",
    "# print(line_eq)\n",
    "\n",
    "#Create the plot\n",
    "plt.scatter(x_values,y_values)\n",
    "plt.plot(x_values,regress_values,\"r-\")\n",
    "\n",
    "# Label plot and annotate the line equation\n",
    "plt.xlabel('Latitude')\n",
    "plt.ylabel('Cloudiness')\n",
    "plt.annotate(line_eq,(20,30),fontsize=15,color=\"red\")\n",
    "plt.grid(True)\n",
    "plt.title('Northern Hemisphere: Cloudiness vs. Latitude')\n",
    "\n",
    "# Print r value\n",
    "print(f\"The r-value is: {rvalue**2}\")\n",
    "\n",
    "# Show plot\n",
    "plt.savefig(\"Images/Northern_Hemisphere_Cloudiness_vs_Latitude.png\")\n",
    "plt.show()\n"
   ]
  },
  {
   "cell_type": "markdown",
   "metadata": {},
   "source": [
    "####  Southern Hemisphere - Cloudiness (%) vs. Latitude Linear Regression"
   ]
  },
  {
   "cell_type": "code",
   "execution_count": 18,
   "metadata": {},
   "outputs": [
    {
     "name": "stdout",
     "output_type": "stream",
     "text": [
      "The r-value is: 0.02099003176942441\n"
     ]
    },
    {
     "data": {
      "image/png": "[encoded data removed]",
      "text/plain": [
       "<Figure size 432x288 with 1 Axes>"
      ]
     },
     "metadata": {
      "needs_background": "light"
     },
     "output_type": "display_data"
    }
   ],
   "source": [
    "#Set x and y intercept values\n",
    "x_values = south_hem['Lat']\n",
    "y_values = south_hem['Cloudiness']\n",
    "\n",
    "# Perform a linear regression on temperature vs. latitude\n",
    "(slope, intercept, rvalue, pvalue, stderr) = stats.linregress(x_values, y_values)\n",
    "\n",
    "# Get regression values\n",
    "regress_values = x_values * slope + intercept\n",
    "\n",
    "# Create line equation string to add this to our plot\n",
    "line_eq = \"y = \" + str(round(slope,2)) + \"x +\" + str(round(intercept,2))\n",
    "# print(line_eq)\n",
    "\n",
    "#Create the plot\n",
    "plt.scatter(x_values,y_values)\n",
    "plt.plot(x_values,regress_values,\"r-\")\n",
    "\n",
    "# Label plot and annotate the line equation\n",
    "plt.xlabel('Latitude')\n",
    "plt.ylabel('Cloudiness')\n",
    "plt.annotate(line_eq,(-30,20),fontsize=15,color=\"red\")\n",
    "plt.grid(True)\n",
    "plt.title('Southern Hemisphere: Cloudiness vs. Latitude')\n",
    "plt.xlim(0,-50)\n",
    "# Print r value\n",
    "print(f\"The r-value is: {rvalue**2}\")\n",
    "\n",
    "# Show plot\n",
    "plt.savefig(\"Images/Southern_Hemisphere_Cloudiness_vs_Latitude.png\")\n",
    "plt.show()\n"
   ]
  },
  {
   "cell_type": "markdown",
   "metadata": {},
   "source": [
    "####  Northern Hemisphere - Wind Speed (mph) vs. Latitude Linear Regression"
   ]
  },
  {
   "cell_type": "code",
   "execution_count": 19,
   "metadata": {},
   "outputs": [
    {
     "name": "stdout",
     "output_type": "stream",
     "text": [
      "The r-value is: 0.029363427419211573\n"
     ]
    },
    {
     "data": {
      "image/png": "[encoded data removed]",
      "text/plain": [
       "<Figure size 432x288 with 1 Axes>"
      ]
     },
     "metadata": {
      "needs_background": "light"
     },
     "output_type": "display_data"
    }
   ],
   "source": [
    "#Set x and y intercept values\n",
    "x_values = north_hem['Lat']\n",
    "y_values = north_hem['Wind Speed']\n",
    "\n",
    "# Perform a linear regression on temperature vs. latitude\n",
    "(slope, intercept, rvalue, pvalue, stderr) = stats.linregress(x_values, y_values)\n",
    "\n",
    "# Get regression values\n",
    "regress_values = x_values * slope + intercept\n",
    "\n",
    "# Create line equation string to add this to our plot\n",
    "line_eq = \"y = \" + str(round(slope,2)) + \"x +\" + str(round(intercept,2))\n",
    "# print(line_eq)\n",
    "\n",
    "#Create the plot\n",
    "plt.scatter(x_values,y_values)\n",
    "plt.plot(x_values,regress_values,\"r-\")\n",
    "\n",
    "# Label plot and annotate the line equation\n",
    "plt.xlabel('Latitude')\n",
    "plt.ylabel('Wind Speed')\n",
    "plt.annotate(line_eq,(10,20),fontsize=15,color=\"red\")\n",
    "plt.grid(True)\n",
    "plt.title('Northern Hemisphere: Wind Speed vs. Latitude')\n",
    "\n",
    "# Print r value\n",
    "print(f\"The r-value is: {rvalue**2}\")\n",
    "\n",
    "# Show plot\n",
    "plt.savefig(\"Images/Northern_Hemisphere_Wind_Speed_vs_Latitude.png\")\n",
    "plt.show()\n"
   ]
  },
  {
   "cell_type": "markdown",
   "metadata": {},
   "source": [
    "####  Southern Hemisphere - Wind Speed (mph) vs. Latitude Linear Regression"
   ]
  },
  {
   "cell_type": "code",
   "execution_count": 20,
   "metadata": {},
   "outputs": [
    {
     "name": "stdout",
     "output_type": "stream",
     "text": [
      "The r-value is: 0.11437110810439843\n"
     ]
    },
    {
     "data": {
      "image/png": "[encoded data removed]",
      "text/plain": [
       "<Figure size 432x288 with 1 Axes>"
      ]
     },
     "metadata": {
      "needs_background": "light"
     },
     "output_type": "display_data"
    }
   ],
   "source": [
    "#Set x and y intercept values\n",
    "x_values = south_hem['Lat']\n",
    "y_values = south_hem['Wind Speed']\n",
    "\n",
    "# Perform a linear regression on temperature vs. latitude\n",
    "(slope, intercept, rvalue, pvalue, stderr) = stats.linregress(x_values, y_values)\n",
    "\n",
    "# Get regression values\n",
    "regress_values = x_values * slope + intercept\n",
    "\n",
    "# Create line equation string to add this to our plot\n",
    "line_eq = \"y = \" + str(round(slope,2)) + \"x +\" + str(round(intercept,2))\n",
    "# print(line_eq)\n",
    "\n",
    "#Create the plot\n",
    "plt.scatter(x_values,y_values)\n",
    "plt.plot(x_values,regress_values,\"r-\")\n",
    "\n",
    "# Label plot and annotate the line equation\n",
    "plt.xlabel('Latitude')\n",
    "plt.ylabel('Wind Speed')\n",
    "plt.annotate(line_eq,(-30,15),fontsize=15,color=\"red\")\n",
    "plt.grid(True)\n",
    "plt.title('Southern Hemisphere: Wind Speed vs. Latitude')\n",
    "plt.xlim(-15,-45)\n",
    "# Print r value\n",
    "print(f\"The r-value is: {rvalue**2}\")\n",
    "\n",
    "# Show plot\n",
    "plt.savefig(\"Images/Southern_Hemisphere_Wind_Speed_vs_Latitude.png\")\n",
    "plt.show()\n"
   ]
  },
  {
   "cell_type": "code",
   "execution_count": null,
   "metadata": {},
   "outputs": [],
   "source": []
  },
  {
   "cell_type": "code",
   "execution_count": null,
   "metadata": {},
   "outputs": [],
   "source": []
  }
 ],
 "metadata": {
  "anaconda-cloud": {},
  "kernel_info": {
   "name": "python3"
  },
  "kernelspec": {
   "display_name": "Python 3",
   "language": "python",
   "name": "python3"
  },
  "language_info": {
   "codemirror_mode": {
    "name": "ipython",
    "version": 3
   },
   "file_extension": ".py",
   "mimetype": "text/x-python",
   "name": "python",
   "nbconvert_exporter": "python",
   "pygments_lexer": "ipython3",
   "version": "3.8.8"
  },
  "latex_envs": {
   "LaTeX_envs_menu_present": true,
   "autoclose": false,
   "autocomplete": true,
   "bibliofile": "biblio.bib",
   "cite_by": "apalike",
   "current_citInitial": 1,
   "eqLabelWithNumbers": true,
   "eqNumInitial": 1,
   "hotkeys": {
    "equation": "Ctrl-E",
    "itemize": "Ctrl-I"
   },
   "labels_anchors": false,
   "latex_user_defs": false,
   "report_style_numbering": false,
   "user_envs_cfg": false
  },
  "nteract": {
   "version": "0.12.3"
  }
 },
 "nbformat": 4,
 "nbformat_minor": 2
}
