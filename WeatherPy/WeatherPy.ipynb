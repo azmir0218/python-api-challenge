{
 "cells": [
  {
   "cell_type": "markdown",
   "metadata": {},
   "source": [
    "# WeatherPy\n",
    "----\n",
    "\n",
    "#### Note\n",
    "* Instructions have been included for each segment. You do not have to follow them exactly, but they are included to help you think through the steps."
   ]
  },
  {
   "cell_type": "markdown",
   "metadata": {},
   "source": [
    "#3 Conclusions from Data Set\n",
    "1. We can see as the latitude increases that the temperature decreases or gets cooler\n",
    "2. As the distance from the equator increases the wind speed slowly increases\n",
    "3. Humidity seems to be constant/equal across different latitudes "
   ]
  },
  {
   "cell_type": "code",
   "execution_count": 218,
   "metadata": {
    "scrolled": true
   },
   "outputs": [],
   "source": [
    "# Dependencies and Setup\n",
    "import matplotlib.pyplot as plt\n",
    "import pandas as pd\n",
    "import numpy as np\n",
    "import requests\n",
    "import time\n",
    "import json\n",
    "from scipy.stats import linregress\n",
    "from scipy import stats\n",
    "\n",
    "# Import API key\n",
    "from api_keys import weather_api_key\n",
    "\n",
    "# Incorporated citipy to determine city based on latitude and longitude\n",
    "from citipy import citipy\n",
    "\n",
    "# Output File (CSV)\n",
    "output_data_file = \"output_data/cities.csv\"\n",
    "\n",
    "# Range of latitudes and longitudes\n",
    "lat_range = (-90, 90)\n",
    "lng_range = (-180, 180)"
   ]
  },
  {
   "cell_type": "markdown",
   "metadata": {},
   "source": [
    "## Generate Cities List"
   ]
  },
  {
   "cell_type": "code",
   "execution_count": 219,
   "metadata": {},
   "outputs": [
    {
     "data": {
      "text/plain": [
       "598"
      ]
     },
     "execution_count": 219,
     "metadata": {},
     "output_type": "execute_result"
    }
   ],
   "source": [
    "# List for holding lat_lngs and cities\n",
    "lat_lngs = []\n",
    "cities = []\n",
    "\n",
    "\n",
    "# Create a set of random lat and lng combinations\n",
    "lats = np.random.uniform(lat_range[0], lat_range[1], size=1500)\n",
    "lngs = np.random.uniform(lng_range[0], lng_range[1], size=1500)\n",
    "lat_lngs = zip(lats, lngs)\n",
    "\n",
    "# Identify nearest city for each lat, lng combination\n",
    "for lat_lng in lat_lngs:\n",
    "    city = citipy.nearest_city(lat_lng[0], lat_lng[1]).city_name\n",
    "    \n",
    "    # If the city is unique, then add it to a our cities list\n",
    "    if city not in cities:\n",
    "        cities.append(city)\n",
    "\n",
    "# Print the city count to confirm sufficient count\n",
    "len(cities)"
   ]
  },
  {
   "cell_type": "code",
   "execution_count": 220,
   "metadata": {},
   "outputs": [
    {
     "name": "stdout",
     "output_type": "stream",
     "text": [
      "{\n",
      "    \"coord\": {\n",
      "        \"lon\": -57.5575,\n",
      "        \"lat\": -38.0023\n",
      "    },\n",
      "    \"weather\": [\n",
      "        {\n",
      "            \"id\": 500,\n",
      "            \"main\": \"Rain\",\n",
      "            \"description\": \"light rain\",\n",
      "            \"icon\": \"10d\"\n",
      "        }\n",
      "    ],\n",
      "    \"base\": \"stations\",\n",
      "    \"main\": {\n",
      "        \"temp\": 58.14,\n",
      "        \"feels_like\": 58.15,\n",
      "        \"temp_min\": 55.99,\n",
      "        \"temp_max\": 60.1,\n",
      "        \"pressure\": 1014,\n",
      "        \"humidity\": 96\n",
      "    },\n",
      "    \"visibility\": 7000,\n",
      "    \"wind\": {\n",
      "        \"speed\": 1.99,\n",
      "        \"deg\": 270,\n",
      "        \"gust\": 10\n",
      "    },\n",
      "    \"rain\": {\n",
      "        \"1h\": 0.32\n",
      "    },\n",
      "    \"clouds\": {\n",
      "        \"all\": 90\n",
      "    },\n",
      "    \"dt\": 1634910928,\n",
      "    \"sys\": {\n",
      "        \"type\": 2,\n",
      "        \"id\": 268283,\n",
      "        \"country\": \"AR\",\n",
      "        \"sunrise\": 1634892878,\n",
      "        \"sunset\": 1634940863\n",
      "    },\n",
      "    \"timezone\": -10800,\n",
      "    \"id\": 3430863,\n",
      "    \"name\": \"Mar del Plata\",\n",
      "    \"cod\": 200\n",
      "}\n"
     ]
    }
   ],
   "source": [
    "url = \"http://api.openweathermap.org/data/2.5/weather?\"\n",
    "response_json = []\n",
    "units = \"imperial\"\n",
    "\n",
    "\n",
    "# Build partial query URL\n",
    "\n",
    "query_url = f\"{url}appid={weather_api_key}&units={units}&q=\"\n",
    "weather_response = requests.get(query_url + city)\n",
    "weather_json = weather_response.json()\n",
    "print(json.dumps(weather_json,indent=4))"
   ]
  },
  {
   "cell_type": "markdown",
   "metadata": {},
   "source": [
    "### Perform API Calls\n",
    "* Perform a weather check on each city using a series of successive API calls.\n",
    "* Include a print log of each city as it'sbeing processed (with the city number and city name). -->\n"
   ]
  },
  {
   "cell_type": "code",
   "execution_count": 221,
   "metadata": {
    "scrolled": false
   },
   "outputs": [
    {
     "name": "stdout",
     "output_type": "stream",
     "text": [
      "georgetown is on the list.\n",
      "nishihara is on the list.\n",
      "sampit is on the list.\n",
      "vaini is on the list.\n",
      "yellowknife is on the list.\n",
      "flinders is on the list.\n",
      "The record does not exist\n",
      "baykit is on the list.\n",
      "kahului is on the list.\n",
      "mahebourg is on the list.\n",
      "hermanus is on the list.\n",
      "choix is on the list.\n",
      "bathsheba is on the list.\n",
      "kapaa is on the list.\n",
      "chokurdakh is on the list.\n",
      "bilibino is on the list.\n",
      "chuy is on the list.\n",
      "The record does not exist\n",
      "yeppoon is on the list.\n",
      "ilulissat is on the list.\n",
      "ponta do sol is on the list.\n",
      "yairipok is on the list.\n",
      "ushuaia is on the list.\n",
      "tutoia is on the list.\n",
      "emerald is on the list.\n",
      "iqaluit is on the list.\n",
      "kruisfontein is on the list.\n",
      "alexandria is on the list.\n",
      "zavyalovo is on the list.\n",
      "khatanga is on the list.\n",
      "chornobay is on the list.\n",
      "tahoua is on the list.\n",
      "The record does not exist\n",
      "hobart is on the list.\n",
      "port alfred is on the list.\n",
      "mweka is on the list.\n",
      "smithers is on the list.\n",
      "arraial do cabo is on the list.\n",
      "kaitangata is on the list.\n",
      "thompson is on the list.\n",
      "velika gorica is on the list.\n",
      "cotonou is on the list.\n",
      "constitucion is on the list.\n",
      "waingapu is on the list.\n",
      "sieut is on the list.\n",
      "goderich is on the list.\n",
      "cabo san lucas is on the list.\n",
      "atuona is on the list.\n",
      "yulara is on the list.\n",
      "kaeo is on the list.\n",
      "vanavara is on the list.\n",
      "fort nelson is on the list.\n",
      "severo-kurilsk is on the list.\n",
      "The record does not exist\n",
      "talaya is on the list.\n",
      "saint-pierre is on the list.\n",
      "maneadero is on the list.\n",
      "envira is on the list.\n",
      "The record does not exist\n",
      "mataura is on the list.\n",
      "bikramganj is on the list.\n",
      "caravelas is on the list.\n",
      "sananduva is on the list.\n",
      "airai is on the list.\n",
      "The record does not exist\n",
      "parker is on the list.\n",
      "viedma is on the list.\n",
      "nushki is on the list.\n",
      "The record does not exist\n",
      "lebu is on the list.\n",
      "ketchikan is on the list.\n",
      "The record does not exist\n",
      "port elizabeth is on the list.\n",
      "rikitea is on the list.\n",
      "khandbari is on the list.\n",
      "codrington is on the list.\n",
      "The record does not exist\n",
      "bako is on the list.\n",
      "belyy yar is on the list.\n",
      "talnakh is on the list.\n",
      "zamora is on the list.\n",
      "saint george is on the list.\n",
      "teya is on the list.\n",
      "cape town is on the list.\n",
      "male is on the list.\n",
      "busselton is on the list.\n",
      "dikson is on the list.\n",
      "punta arenas is on the list.\n",
      "port hardy is on the list.\n",
      "margate is on the list.\n",
      "barrow is on the list.\n",
      "The record does not exist\n",
      "kavieng is on the list.\n",
      "deputatskiy is on the list.\n",
      "The record does not exist\n",
      "muscat is on the list.\n",
      "panaba is on the list.\n",
      "hefei is on the list.\n",
      "evensk is on the list.\n",
      "jamestown is on the list.\n",
      "albany is on the list.\n",
      "The record does not exist\n",
      "edd is on the list.\n",
      "carnarvon is on the list.\n",
      "hilo is on the list.\n",
      "dunedin is on the list.\n",
      "puerto ayora is on the list.\n",
      "la ronge is on the list.\n",
      "butaritari is on the list.\n",
      "nouadhibou is on the list.\n",
      "kokopo is on the list.\n",
      "sisimiut is on the list.\n",
      "longyearbyen is on the list.\n",
      "san cristobal is on the list.\n",
      "bandarbeyla is on the list.\n",
      "taft is on the list.\n",
      "pisco is on the list.\n",
      "san andres is on the list.\n",
      "shingu is on the list.\n",
      "souillac is on the list.\n",
      "new norfolk is on the list.\n",
      "aquiraz is on the list.\n",
      "stendal is on the list.\n",
      "hobyo is on the list.\n",
      "faanui is on the list.\n",
      "porto novo is on the list.\n",
      "beringovskiy is on the list.\n",
      "magistralnyy is on the list.\n",
      "khor is on the list.\n",
      "ribeira grande is on the list.\n",
      "rawson is on the list.\n",
      "The record does not exist\n",
      "den helder is on the list.\n",
      "qaanaaq is on the list.\n",
      "greenfield is on the list.\n",
      "bengkulu is on the list.\n",
      "idritsa is on the list.\n",
      "saint-augustin is on the list.\n",
      "cockburn town is on the list.\n",
      "port-gentil is on the list.\n",
      "sao filipe is on the list.\n",
      "The record does not exist\n",
      "adrar is on the list.\n",
      "buraydah is on the list.\n",
      "salalah is on the list.\n",
      "olinda is on the list.\n",
      "mar del plata is on the list.\n",
      "esperance is on the list.\n",
      "faya is on the list.\n",
      "bluff is on the list.\n",
      "The record does not exist\n",
      "saskylakh is on the list.\n",
      "tucuman is on the list.\n",
      "cerrito is on the list.\n",
      "sola is on the list.\n",
      "rundu is on the list.\n",
      "The record does not exist\n",
      "The record does not exist\n",
      "biskamzha is on the list.\n",
      "The record does not exist\n",
      "tilichiki is on the list.\n",
      "kuntaur is on the list.\n",
      "gohpur is on the list.\n",
      "cidreira is on the list.\n",
      "timra is on the list.\n",
      "The record does not exist\n",
      "norman wells is on the list.\n",
      "bredasdorp is on the list.\n",
      "harper is on the list.\n",
      "tiksi is on the list.\n",
      "salinas is on the list.\n",
      "colares is on the list.\n",
      "bushehr is on the list.\n",
      "lorengau is on the list.\n",
      "kushmurun is on the list.\n",
      "saldanha is on the list.\n",
      "maceio is on the list.\n",
      "napa is on the list.\n",
      "wurzen is on the list.\n",
      "carballo is on the list.\n",
      "castro is on the list.\n",
      "chail is on the list.\n",
      "dmitrovsk-orlovskiy is on the list.\n",
      "birjand is on the list.\n",
      "cochrane is on the list.\n",
      "hasaki is on the list.\n",
      "saint-philippe is on the list.\n",
      "conceicao do araguaia is on the list.\n",
      "mnogovershinnyy is on the list.\n",
      "nikolskoye is on the list.\n",
      "araouane is on the list.\n",
      "baculin is on the list.\n",
      "avarua is on the list.\n",
      "russell is on the list.\n",
      "The record does not exist\n",
      "The record does not exist\n",
      "ust-ilimsk is on the list.\n",
      "macusani is on the list.\n",
      "beecher is on the list.\n",
      "pevek is on the list.\n",
      "ugoofaaru is on the list.\n",
      "komsomolskiy is on the list.\n",
      "The record does not exist\n",
      "bideford is on the list.\n",
      "san policarpo is on the list.\n",
      "aksu is on the list.\n",
      "roseburg is on the list.\n",
      "aguimes is on the list.\n",
      "fremont is on the list.\n",
      "The record does not exist\n",
      "huichapan is on the list.\n",
      "tahta is on the list.\n",
      "leningradskiy is on the list.\n",
      "oktyabrskoye is on the list.\n",
      "klaksvik is on the list.\n",
      "charters towers is on the list.\n",
      "nicoya is on the list.\n",
      "bani walid is on the list.\n",
      "hamilton is on the list.\n",
      "lasa is on the list.\n",
      "abomey is on the list.\n",
      "auki is on the list.\n",
      "birecik is on the list.\n",
      "petropavlovka is on the list.\n",
      "areosa is on the list.\n",
      "mount gambier is on the list.\n",
      "port jervis is on the list.\n",
      "polunochnoye is on the list.\n",
      "northam is on the list.\n",
      "The record does not exist\n",
      "isangel is on the list.\n",
      "valdez is on the list.\n",
      "victoria is on the list.\n",
      "geraldton is on the list.\n",
      "lagoa is on the list.\n",
      "rio grande is on the list.\n",
      "kudahuvadhoo is on the list.\n",
      "cururupu is on the list.\n",
      "The record does not exist\n",
      "kavaratti is on the list.\n",
      "The record does not exist\n",
      "velikiy ustyug is on the list.\n",
      "ziarat is on the list.\n",
      "mirnyy is on the list.\n",
      "luganville is on the list.\n",
      "jever is on the list.\n",
      "tongchuan is on the list.\n",
      "zhigansk is on the list.\n",
      "caohai is on the list.\n",
      "The record does not exist\n",
      "kodiak is on the list.\n",
      "tuktoyaktuk is on the list.\n",
      "upernavik is on the list.\n",
      "bantry is on the list.\n",
      "The record does not exist\n",
      "brigantine is on the list.\n",
      "aksarka is on the list.\n",
      "The record does not exist\n",
      "kiama is on the list.\n",
      "xining is on the list.\n",
      "lompoc is on the list.\n",
      "santiago is on the list.\n",
      "itaituba is on the list.\n",
      "loja is on the list.\n",
      "bowen is on the list.\n",
      "port-cartier is on the list.\n",
      "broken hill is on the list.\n",
      "asau is on the list.\n",
      "The record does not exist\n",
      "hasilpur is on the list.\n",
      "kambarka is on the list.\n",
      "lyuban is on the list.\n",
      "gat is on the list.\n",
      "port moresby is on the list.\n",
      "sao jose da coroa grande is on the list.\n",
      "independence is on the list.\n",
      "middletown is on the list.\n",
      "tuatapere is on the list.\n",
      "hambantota is on the list.\n",
      "quatre cocos is on the list.\n",
      "ambilobe is on the list.\n",
      "fairbanks is on the list.\n",
      "comodoro rivadavia is on the list.\n",
      "kiunga is on the list.\n",
      "bambous virieux is on the list.\n",
      "camacupa is on the list.\n",
      "tura is on the list.\n",
      "breves is on the list.\n",
      "banjar is on the list.\n",
      "san patricio is on the list.\n",
      "kalino is on the list.\n",
      "The record does not exist\n",
      "sangar is on the list.\n",
      "tarija is on the list.\n",
      "ekuvukeni is on the list.\n",
      "porbandar is on the list.\n",
      "manggar is on the list.\n",
      "kembe is on the list.\n",
      "vestmannaeyjar is on the list.\n",
      "doha is on the list.\n",
      "brus laguna is on the list.\n",
      "houma is on the list.\n",
      "itarema is on the list.\n",
      "ancud is on the list.\n",
      "talcahuano is on the list.\n",
      "luanda is on the list.\n",
      "beidao is on the list.\n",
      "bolu is on the list.\n",
      "zhigalovo is on the list.\n",
      "bennettsville is on the list.\n",
      "The record does not exist\n",
      "minudasht is on the list.\n",
      "parfenyevo is on the list.\n",
      "kamloops is on the list.\n",
      "The record does not exist\n",
      "buala is on the list.\n",
      "basco is on the list.\n",
      "ambalavao is on the list.\n",
      "koppies is on the list.\n",
      "maragogi is on the list.\n",
      "The record does not exist\n",
      "bubaque is on the list.\n",
      "voskresenskoye is on the list.\n",
      "srednekolymsk is on the list.\n",
      "rosario is on the list.\n"
     ]
    },
    {
     "name": "stdout",
     "output_type": "stream",
     "text": [
      "troitsko-pechorsk is on the list.\n",
      "port keats is on the list.\n",
      "shelburne is on the list.\n",
      "huarmey is on the list.\n",
      "panama city is on the list.\n",
      "eyl is on the list.\n",
      "quime is on the list.\n",
      "strezhevoy is on the list.\n",
      "whitianga is on the list.\n",
      "ostrovnoy is on the list.\n",
      "tateyama is on the list.\n",
      "road town is on the list.\n",
      "nago is on the list.\n",
      "las palmas is on the list.\n",
      "mawlaik is on the list.\n",
      "prieska is on the list.\n",
      "talara is on the list.\n",
      "sao joao da barra is on the list.\n",
      "mundo novo is on the list.\n",
      "hithadhoo is on the list.\n",
      "banda aceh is on the list.\n",
      "coahuayana is on the list.\n",
      "The record does not exist\n",
      "sambava is on the list.\n",
      "sar-e pul is on the list.\n",
      "la serena is on the list.\n",
      "okato is on the list.\n",
      "castlegar is on the list.\n",
      "The record does not exist\n",
      "zhezkazgan is on the list.\n",
      "mendi is on the list.\n",
      "agirish is on the list.\n",
      "bethel is on the list.\n",
      "zmeinogorsk is on the list.\n",
      "beaverlodge is on the list.\n",
      "The record does not exist\n",
      "adwa is on the list.\n",
      "provideniya is on the list.\n",
      "The record does not exist\n",
      "richards bay is on the list.\n",
      "general roca is on the list.\n",
      "bayan is on the list.\n",
      "The record does not exist\n",
      "aklavik is on the list.\n",
      "tonj is on the list.\n",
      "pringsewu is on the list.\n",
      "sorland is on the list.\n",
      "nanortalik is on the list.\n",
      "bonnyville is on the list.\n",
      "The record does not exist\n",
      "tasiilaq is on the list.\n",
      "upata is on the list.\n",
      "sangueya is on the list.\n",
      "laguna is on the list.\n",
      "vorokhta is on the list.\n",
      "ust-nera is on the list.\n",
      "labuhan is on the list.\n",
      "beloha is on the list.\n",
      "pouebo is on the list.\n",
      "los llanos de aridane is on the list.\n",
      "eureka is on the list.\n",
      "luderitz is on the list.\n",
      "jalu is on the list.\n",
      "aripuana is on the list.\n",
      "havelock is on the list.\n",
      "sao felix do xingu is on the list.\n",
      "bafra is on the list.\n",
      "coquimbo is on the list.\n",
      "salinopolis is on the list.\n",
      "yarada is on the list.\n",
      "taraclia is on the list.\n",
      "rodrigues alves is on the list.\n",
      "samarai is on the list.\n",
      "katsuura is on the list.\n",
      "tizapan el alto is on the list.\n",
      "plettenberg bay is on the list.\n",
      "noumea is on the list.\n",
      "east london is on the list.\n",
      "clyde river is on the list.\n",
      "pithora is on the list.\n",
      "kinshasa is on the list.\n",
      "anadyr is on the list.\n",
      "newport is on the list.\n",
      "nurota is on the list.\n",
      "bud is on the list.\n",
      "nizwa is on the list.\n",
      "sinnamary is on the list.\n",
      "makakilo city is on the list.\n",
      "bani is on the list.\n",
      "The record does not exist\n",
      "agadir is on the list.\n",
      "awbari is on the list.\n",
      "The record does not exist\n",
      "torbay is on the list.\n",
      "chara is on the list.\n",
      "kulhudhuffushi is on the list.\n",
      "yar-sale is on the list.\n",
      "dingle is on the list.\n",
      "boca do acre is on the list.\n",
      "kasongo-lunda is on the list.\n",
      "buenos aires is on the list.\n",
      "bonthe is on the list.\n",
      "mayor pablo lagerenza is on the list.\n",
      "san jose iturbide is on the list.\n",
      "cherskiy is on the list.\n",
      "The record does not exist\n",
      "santa rosa is on the list.\n",
      "port lincoln is on the list.\n",
      "leshukonskoye is on the list.\n",
      "el bagre is on the list.\n",
      "igaracu do tiete is on the list.\n",
      "obo is on the list.\n",
      "The record does not exist\n",
      "unai is on the list.\n",
      "kamenka is on the list.\n",
      "bumba is on the list.\n",
      "broome is on the list.\n",
      "okhotsk is on the list.\n",
      "laje is on the list.\n",
      "novoagansk is on the list.\n",
      "lusambo is on the list.\n",
      "sorsk is on the list.\n",
      "romny is on the list.\n",
      "asyut is on the list.\n",
      "zion is on the list.\n",
      "punta alta is on the list.\n",
      "morgan hill is on the list.\n",
      "finschhafen is on the list.\n",
      "hervey bay is on the list.\n",
      "cervo is on the list.\n",
      "manta is on the list.\n",
      "sitka is on the list.\n",
      "tashtyp is on the list.\n",
      "slave lake is on the list.\n",
      "dhidhdhoo is on the list.\n",
      "The record does not exist\n",
      "ojinaga is on the list.\n",
      "kaabong is on the list.\n",
      "portland is on the list.\n",
      "lannion is on the list.\n",
      "villa guerrero is on the list.\n",
      "olafsvik is on the list.\n",
      "sao francisco do sul is on the list.\n",
      "barcelona is on the list.\n",
      "narsaq is on the list.\n",
      "alofi is on the list.\n",
      "hay river is on the list.\n",
      "luwuk is on the list.\n",
      "maniitsoq is on the list.\n",
      "los algarrobos is on the list.\n",
      "ozernovskiy is on the list.\n",
      "chapais is on the list.\n",
      "erbaa is on the list.\n",
      "plainview is on the list.\n",
      "salamanca is on the list.\n",
      "boa vista is on the list.\n",
      "victor harbor is on the list.\n",
      "red bluff is on the list.\n",
      "baoro is on the list.\n",
      "roma is on the list.\n",
      "visby is on the list.\n",
      "bjornevatn is on the list.\n",
      "kohlu is on the list.\n",
      "akdepe is on the list.\n",
      "ongandjera is on the list.\n",
      "quelimane is on the list.\n",
      "ballina is on the list.\n",
      "tigil is on the list.\n",
      "mahajanga is on the list.\n",
      "clinton is on the list.\n",
      "itambe is on the list.\n",
      "digha is on the list.\n",
      "tazovskiy is on the list.\n",
      "lavrentiya is on the list.\n",
      "phirangipuram is on the list.\n",
      "redding is on the list.\n",
      "nome is on the list.\n",
      "nipawin is on the list.\n",
      "mattru is on the list.\n",
      "port blair is on the list.\n",
      "sakaiminato is on the list.\n",
      "dunhua is on the list.\n",
      "guatire is on the list.\n",
      "coihaique is on the list.\n",
      "taranagar is on the list.\n",
      "lutry is on the list.\n",
      "sorong is on the list.\n",
      "zhangjiakou is on the list.\n",
      "peno is on the list.\n",
      "hovd is on the list.\n",
      "saint-georges is on the list.\n",
      "petropavlovsk-kamchatskiy is on the list.\n",
      "champasak is on the list.\n",
      "eydhafushi is on the list.\n",
      "The record does not exist\n",
      "muli is on the list.\n",
      "The record does not exist\n",
      "dungarpur is on the list.\n",
      "gijon is on the list.\n",
      "bafq is on the list.\n",
      "kamaishi is on the list.\n",
      "grindavik is on the list.\n",
      "skibbereen is on the list.\n",
      "havre-saint-pierre is on the list.\n",
      "krasnyy kholm is on the list.\n",
      "The record does not exist\n",
      "japura is on the list.\n",
      "morondava is on the list.\n",
      "marrakesh is on the list.\n",
      "kaniama is on the list.\n",
      "bourail is on the list.\n",
      "namatanai is on the list.\n",
      "ribeira brava is on the list.\n",
      "muskegon is on the list.\n",
      "guerrero negro is on the list.\n",
      "biak is on the list.\n",
      "muyezerskiy is on the list.\n",
      "naliya is on the list.\n",
      "bahia blanca is on the list.\n",
      "fortuna is on the list.\n",
      "nacala is on the list.\n",
      "bukan is on the list.\n",
      "nha trang is on the list.\n",
      "uri is on the list.\n",
      "yate is on the list.\n",
      "xuddur is on the list.\n",
      "gushi is on the list.\n",
      "sursk is on the list.\n",
      "camacha is on the list.\n",
      "orje is on the list.\n",
      "padang is on the list.\n",
      "ahar is on the list.\n",
      "The record does not exist\n",
      "olavarria is on the list.\n",
      "tailai is on the list.\n",
      "vazante is on the list.\n",
      "siena is on the list.\n",
      "dire dawa is on the list.\n",
      "The record does not exist\n",
      "virginia beach is on the list.\n",
      "ahipara is on the list.\n",
      "matucana is on the list.\n",
      "el rosal is on the list.\n",
      "gerash is on the list.\n",
      "verkhoyansk is on the list.\n",
      "naze is on the list.\n",
      "twin falls is on the list.\n",
      "kamina is on the list.\n",
      "meulaboh is on the list.\n",
      "willowmore is on the list.\n",
      "The record does not exist\n",
      "izumo is on the list.\n",
      "immokalee is on the list.\n",
      "balkhash is on the list.\n",
      "akyab is on the list.\n",
      "salvador is on the list.\n",
      "antalaha is on the list.\n",
      "The record does not exist\n",
      "port augusta is on the list.\n",
      "berlevag is on the list.\n",
      "the valley is on the list.\n",
      "luorong is on the list.\n",
      "tongling is on the list.\n",
      "taraz is on the list.\n",
      "mon is on the list.\n",
      "cimitarra is on the list.\n",
      "arriaga is on the list.\n",
      "ngunguru is on the list.\n",
      "paris is on the list.\n",
      "ko samui is on the list.\n",
      "butembo is on the list.\n",
      "pangnirtung is on the list.\n",
      "tessalit is on the list.\n"
     ]
    }
   ],
   "source": [
    "latitude=[]\n",
    "longitude=[]\n",
    "temp_max=[]\n",
    "humidity=[]\n",
    "clouds=[]\n",
    "wind_speeds=[]\n",
    "countries=[]\n",
    "date=[]\n",
    "city_names=[]\n",
    "\n",
    "for city in cities:\n",
    "    response_json = requests.get(query_url + city).json()\n",
    "#     print(json.dumps(response_json, indent = 4, sort_keys = True))\n",
    "#     break\n",
    "    \n",
    "    try:\n",
    "        city_name=response_json[\"name\"]\n",
    "        city_names.append(city)\n",
    "        lati=response_json[\"coord\"][\"lat\"]\n",
    "        latitude.append(lati)\n",
    "        long=response_json[\"coord\"][\"lon\"]\n",
    "        longitude.append(long)\n",
    "        temperature=response_json[\"main\"][\"temp\"]\n",
    "        temp_max.append(temperature)\n",
    "        hum=response_json[\"main\"][\"humidity\"]\n",
    "        humidity.append(hum)\n",
    "        cld= response_json[\"clouds\"][\"all\"]\n",
    "        clouds.append(cld)\n",
    "        wind=response_json[\"wind\"][\"speed\"]\n",
    "        wind_speeds.append(wind)\n",
    "        cntr=response_json[\"sys\"][\"country\"]\n",
    "        countries.append(cntr)\n",
    "        dt=response_json[\"dt\"]\n",
    "        date.append(dt)\n",
    "        print(f\"{city} is on the list.\")\n",
    "        \n",
    "        \n",
    "    except(KeyError,IndexError):\n",
    "        print(\"The record does not exist\")\n"
   ]
  },
  {
   "cell_type": "code",
   "execution_count": 222,
   "metadata": {},
   "outputs": [],
   "source": [
    "# print(len(lat),len(lon),len(temp_max),len(humidity),len(cloud),len(wind_speed),len(country),len(date),len(city_names))"
   ]
  },
  {
   "cell_type": "markdown",
   "metadata": {},
   "source": [
    "<!--  Convert Raw Data to DataFrame -->\n",
    "* Export the city data into a .csv.\n",
    "* Display the DataFrame"
   ]
  },
  {
   "cell_type": "code",
   "execution_count": 223,
   "metadata": {},
   "outputs": [
    {
     "data": {
      "text/html": [
       "<div>\n",
       "<style scoped>\n",
       "    .dataframe tbody tr th:only-of-type {\n",
       "        vertical-align: middle;\n",
       "    }\n",
       "\n",
       "    .dataframe tbody tr th {\n",
       "        vertical-align: top;\n",
       "    }\n",
       "\n",
       "    .dataframe thead th {\n",
       "        text-align: right;\n",
       "    }\n",
       "</style>\n",
       "<table border=\"1\" class=\"dataframe\">\n",
       "  <thead>\n",
       "    <tr style=\"text-align: right;\">\n",
       "      <th></th>\n",
       "      <th>City</th>\n",
       "      <th>Lat</th>\n",
       "      <th>Lng</th>\n",
       "      <th>Max Temp</th>\n",
       "      <th>Humidity</th>\n",
       "      <th>Cloudiness</th>\n",
       "      <th>Wind Speed</th>\n",
       "      <th>Country</th>\n",
       "      <th>Date</th>\n",
       "    </tr>\n",
       "  </thead>\n",
       "  <tbody>\n",
       "    <tr>\n",
       "      <th>0</th>\n",
       "      <td>georgetown</td>\n",
       "      <td>5.4112</td>\n",
       "      <td>100.3354</td>\n",
       "      <td>83.97</td>\n",
       "      <td>80</td>\n",
       "      <td>20</td>\n",
       "      <td>5.99</td>\n",
       "      <td>MY</td>\n",
       "      <td>1634910951</td>\n",
       "    </tr>\n",
       "    <tr>\n",
       "      <th>1</th>\n",
       "      <td>nishihara</td>\n",
       "      <td>26.1842</td>\n",
       "      <td>127.7558</td>\n",
       "      <td>72.10</td>\n",
       "      <td>58</td>\n",
       "      <td>90</td>\n",
       "      <td>13.80</td>\n",
       "      <td>JP</td>\n",
       "      <td>1634911114</td>\n",
       "    </tr>\n",
       "    <tr>\n",
       "      <th>2</th>\n",
       "      <td>sampit</td>\n",
       "      <td>-2.5333</td>\n",
       "      <td>112.9500</td>\n",
       "      <td>74.59</td>\n",
       "      <td>96</td>\n",
       "      <td>100</td>\n",
       "      <td>2.39</td>\n",
       "      <td>ID</td>\n",
       "      <td>1634911049</td>\n",
       "    </tr>\n",
       "    <tr>\n",
       "      <th>3</th>\n",
       "      <td>vaini</td>\n",
       "      <td>-21.2000</td>\n",
       "      <td>-175.2000</td>\n",
       "      <td>69.96</td>\n",
       "      <td>94</td>\n",
       "      <td>20</td>\n",
       "      <td>10.36</td>\n",
       "      <td>TO</td>\n",
       "      <td>1634911114</td>\n",
       "    </tr>\n",
       "    <tr>\n",
       "      <th>4</th>\n",
       "      <td>yellowknife</td>\n",
       "      <td>62.4560</td>\n",
       "      <td>-114.3525</td>\n",
       "      <td>36.46</td>\n",
       "      <td>90</td>\n",
       "      <td>1</td>\n",
       "      <td>11.50</td>\n",
       "      <td>CA</td>\n",
       "      <td>1634911115</td>\n",
       "    </tr>\n",
       "  </tbody>\n",
       "</table>\n",
       "</div>"
      ],
      "text/plain": [
       "          City      Lat       Lng  Max Temp  Humidity  Cloudiness  Wind Speed  \\\n",
       "0   georgetown   5.4112  100.3354     83.97        80          20        5.99   \n",
       "1    nishihara  26.1842  127.7558     72.10        58          90       13.80   \n",
       "2       sampit  -2.5333  112.9500     74.59        96         100        2.39   \n",
       "3        vaini -21.2000 -175.2000     69.96        94          20       10.36   \n",
       "4  yellowknife  62.4560 -114.3525     36.46        90           1       11.50   \n",
       "\n",
       "  Country        Date  \n",
       "0      MY  1634910951  \n",
       "1      JP  1634911114  \n",
       "2      ID  1634911049  \n",
       "3      TO  1634911114  \n",
       "4      CA  1634911115  "
      ]
     },
     "execution_count": 223,
     "metadata": {},
     "output_type": "execute_result"
    }
   ],
   "source": [
    "city_df=pd.DataFrame({\"City\":city_names,\"Lat\":latitude,\"Lng\":longitude,\"Max Temp\":temp_max,\"Humidity\":humidity,\"Cloudiness\":clouds,\n",
    "            \"Wind Speed\":wind_speeds,\"Country\":countries,\"Date\":date})\n",
    "\n",
    "city_df.head()"
   ]
  },
  {
   "cell_type": "code",
   "execution_count": 238,
   "metadata": {},
   "outputs": [],
   "source": [
    "city_df.to_csv(\"../output_data/cities.csv\",index=False)"
   ]
  },
  {
   "cell_type": "markdown",
   "metadata": {},
   "source": [
    "## Plotting the Data\n",
    "* Use proper labeling of the plots using plot titles (including date of analysis) and axes labels.\n",
    "* Save the plotted figures as .pngs."
   ]
  },
  {
   "cell_type": "markdown",
   "metadata": {},
   "source": [
    "## Latitude vs. Temperature Plot"
   ]
  },
  {
   "cell_type": "code",
   "execution_count": 225,
   "metadata": {
    "scrolled": true
   },
   "outputs": [
    {
     "data": {
      "image/png": "[encoded data removed]",
      "text/plain": [
       "<Figure size 432x288 with 1 Axes>"
      ]
     },
     "metadata": {
      "needs_background": "light"
     },
     "output_type": "display_data"
    },
    {
     "data": {
      "text/plain": [
       "<Figure size 432x288 with 0 Axes>"
      ]
     },
     "metadata": {},
     "output_type": "display_data"
    }
   ],
   "source": [
    "x_values = city_df[\"Lat\"]\n",
    "y_values = city_df['Max Temp']\n",
    "plt.scatter(x_values,y_values)\n",
    "plt.xlabel('Latitude')\n",
    "plt.ylabel('Temperature')\n",
    "plt.title('Latitude vs. Temperature')\n",
    "plt.grid(True)\n",
    "plt.show()\n",
    "plt.savefig(\"Images/Latitude vs Temperature.png\")"
   ]
  },
  {
   "cell_type": "markdown",
   "metadata": {},
   "source": [
    "## Latitude vs. Humidity Plot"
   ]
  },
  {
   "cell_type": "code",
   "execution_count": 226,
   "metadata": {},
   "outputs": [
    {
     "data": {
      "image/png": "[encoded data removed]",
      "text/plain": [
       "<Figure size 432x288 with 1 Axes>"
      ]
     },
     "metadata": {
      "needs_background": "light"
     },
     "output_type": "display_data"
    },
    {
     "data": {
      "text/plain": [
       "<Figure size 432x288 with 0 Axes>"
      ]
     },
     "metadata": {},
     "output_type": "display_data"
    }
   ],
   "source": [
    "x_values = city_df[\"Lat\"]\n",
    "y_values = city_df['Humidity']\n",
    "plt.scatter(x_values,y_values)\n",
    "plt.xlabel('Latitude')\n",
    "plt.ylabel('Humidity')\n",
    "plt.title('Latitude vs. Humidity')\n",
    "plt.grid(True)\n",
    "plt.show()\n",
    "plt.savefig(\"Images/Latitude vs Humidity.png\")"
   ]
  },
  {
   "cell_type": "markdown",
   "metadata": {},
   "source": [
    "## Latitude vs. Cloudiness Plot"
   ]
  },
  {
   "cell_type": "code",
   "execution_count": 227,
   "metadata": {},
   "outputs": [
    {
     "data": {
      "image/png": "[encoded data removed]",
      "text/plain": [
       "<Figure size 432x288 with 1 Axes>"
      ]
     },
     "metadata": {
      "needs_background": "light"
     },
     "output_type": "display_data"
    },
    {
     "data": {
      "text/plain": [
       "<Figure size 432x288 with 0 Axes>"
      ]
     },
     "metadata": {},
     "output_type": "display_data"
    }
   ],
   "source": [
    "x_values = city_df[\"Lat\"]\n",
    "y_values = city_df['Cloudiness']\n",
    "plt.scatter(x_values,y_values)\n",
    "plt.xlabel('Latitude')\n",
    "plt.ylabel('Cloudiness')\n",
    "plt.title('Latitude vs. Cloudiness')\n",
    "plt.grid(True)\n",
    "plt.show()\n",
    "plt.savefig(\"Images/Latitude vs Cloudiness.png\")"
   ]
  },
  {
   "cell_type": "markdown",
   "metadata": {},
   "source": [
    "## Latitude vs. Wind Speed Plot"
   ]
  },
  {
   "cell_type": "code",
   "execution_count": 228,
   "metadata": {},
   "outputs": [
    {
     "data": {
      "image/png": "[encoded data removed]",
      "text/plain": [
       "<Figure size 432x288 with 1 Axes>"
      ]
     },
     "metadata": {
      "needs_background": "light"
     },
     "output_type": "display_data"
    },
    {
     "data": {
      "text/plain": [
       "<Figure size 432x288 with 0 Axes>"
      ]
     },
     "metadata": {},
     "output_type": "display_data"
    }
   ],
   "source": [
    "x_values = city_df[\"Lat\"]\n",
    "y_values = city_df['Wind Speed']\n",
    "plt.scatter(x_values,y_values)\n",
    "plt.xlabel('Latitude')\n",
    "plt.ylabel('Wind Speed')\n",
    "plt.title('Latitude vs. Wind Speed')\n",
    "plt.grid(True)\n",
    "plt.show()\n",
    "plt.savefig(\"Images/Latitude vs Wind Speed.png\")"
   ]
  },
  {
   "cell_type": "markdown",
   "metadata": {},
   "source": [
    "## Linear Regression"
   ]
  },
  {
   "cell_type": "code",
   "execution_count": 229,
   "metadata": {},
   "outputs": [
    {
     "data": {
      "text/html": [
       "<div>\n",
       "<style scoped>\n",
       "    .dataframe tbody tr th:only-of-type {\n",
       "        vertical-align: middle;\n",
       "    }\n",
       "\n",
       "    .dataframe tbody tr th {\n",
       "        vertical-align: top;\n",
       "    }\n",
       "\n",
       "    .dataframe thead th {\n",
       "        text-align: right;\n",
       "    }\n",
       "</style>\n",
       "<table border=\"1\" class=\"dataframe\">\n",
       "  <thead>\n",
       "    <tr style=\"text-align: right;\">\n",
       "      <th></th>\n",
       "      <th>City</th>\n",
       "      <th>Lat</th>\n",
       "      <th>Lng</th>\n",
       "      <th>Max Temp</th>\n",
       "      <th>Humidity</th>\n",
       "      <th>Cloudiness</th>\n",
       "      <th>Wind Speed</th>\n",
       "      <th>Country</th>\n",
       "      <th>Date</th>\n",
       "    </tr>\n",
       "  </thead>\n",
       "  <tbody>\n",
       "    <tr>\n",
       "      <th>2</th>\n",
       "      <td>sampit</td>\n",
       "      <td>-2.5333</td>\n",
       "      <td>112.9500</td>\n",
       "      <td>74.59</td>\n",
       "      <td>96</td>\n",
       "      <td>100</td>\n",
       "      <td>2.39</td>\n",
       "      <td>ID</td>\n",
       "      <td>1634911049</td>\n",
       "    </tr>\n",
       "    <tr>\n",
       "      <th>3</th>\n",
       "      <td>vaini</td>\n",
       "      <td>-21.2000</td>\n",
       "      <td>-175.2000</td>\n",
       "      <td>69.96</td>\n",
       "      <td>94</td>\n",
       "      <td>20</td>\n",
       "      <td>10.36</td>\n",
       "      <td>TO</td>\n",
       "      <td>1634911114</td>\n",
       "    </tr>\n",
       "    <tr>\n",
       "      <th>5</th>\n",
       "      <td>flinders</td>\n",
       "      <td>-34.5833</td>\n",
       "      <td>150.8552</td>\n",
       "      <td>61.36</td>\n",
       "      <td>83</td>\n",
       "      <td>5</td>\n",
       "      <td>1.01</td>\n",
       "      <td>AU</td>\n",
       "      <td>1634911115</td>\n",
       "    </tr>\n",
       "    <tr>\n",
       "      <th>8</th>\n",
       "      <td>mahebourg</td>\n",
       "      <td>-20.4081</td>\n",
       "      <td>57.7000</td>\n",
       "      <td>79.09</td>\n",
       "      <td>73</td>\n",
       "      <td>75</td>\n",
       "      <td>13.80</td>\n",
       "      <td>MU</td>\n",
       "      <td>1634911116</td>\n",
       "    </tr>\n",
       "    <tr>\n",
       "      <th>9</th>\n",
       "      <td>hermanus</td>\n",
       "      <td>-34.4187</td>\n",
       "      <td>19.2345</td>\n",
       "      <td>69.80</td>\n",
       "      <td>64</td>\n",
       "      <td>99</td>\n",
       "      <td>29.82</td>\n",
       "      <td>ZA</td>\n",
       "      <td>1634911116</td>\n",
       "    </tr>\n",
       "  </tbody>\n",
       "</table>\n",
       "</div>"
      ],
      "text/plain": [
       "        City      Lat       Lng  Max Temp  Humidity  Cloudiness  Wind Speed  \\\n",
       "2     sampit  -2.5333  112.9500     74.59        96         100        2.39   \n",
       "3      vaini -21.2000 -175.2000     69.96        94          20       10.36   \n",
       "5   flinders -34.5833  150.8552     61.36        83           5        1.01   \n",
       "8  mahebourg -20.4081   57.7000     79.09        73          75       13.80   \n",
       "9   hermanus -34.4187   19.2345     69.80        64          99       29.82   \n",
       "\n",
       "  Country        Date  \n",
       "2      ID  1634911049  \n",
       "3      TO  1634911114  \n",
       "5      AU  1634911115  \n",
       "8      MU  1634911116  \n",
       "9      ZA  1634911116  "
      ]
     },
     "execution_count": 229,
     "metadata": {},
     "output_type": "execute_result"
    }
   ],
   "source": [
    "north_hem= city_df.loc[city_df[\"Lat\"]>=0]\n",
    "\n",
    "south_hem= city_df.loc[city_df[\"Lat\"]<0]\n",
    "\n",
    "south_hem.head()"
   ]
  },
  {
   "cell_type": "markdown",
   "metadata": {},
   "source": [
    "####  Northern Hemisphere - Max Temp vs. Latitude Linear Regression"
   ]
  },
  {
   "cell_type": "code",
   "execution_count": 230,
   "metadata": {},
   "outputs": [
    {
     "name": "stdout",
     "output_type": "stream",
     "text": [
      "The r-value is: 0.7549645209308894\n"
     ]
    },
    {
     "data": {
      "image/png": "[encoded data removed]",
      "text/plain": [
       "<Figure size 432x288 with 1 Axes>"
      ]
     },
     "metadata": {
      "needs_background": "light"
     },
     "output_type": "display_data"
    },
    {
     "data": {
      "text/plain": [
       "<Figure size 432x288 with 0 Axes>"
      ]
     },
     "metadata": {},
     "output_type": "display_data"
    }
   ],
   "source": [
    "#Set x and y intercept values\n",
    "x_values = north_hem['Lat']\n",
    "y_values = north_hem['Max Temp']\n",
    "\n",
    "# Perform a linear regression on temperature vs. latitude\n",
    "(slope, intercept, rvalue, pvalue, stderr) = stats.linregress(x_values, y_values)\n",
    "\n",
    "# Get regression values\n",
    "regress_values = x_values * slope + intercept\n",
    "\n",
    "\n",
    "# Create line equation string to add this to our plot\n",
    "line_eq = \"y = \" + str(round(slope,2)) + \"x +\" + str(round(intercept,2))\n",
    "# print(line_eq)\n",
    "\n",
    "#Create the plot\n",
    "plt.scatter(x_values,y_values)\n",
    "plt.plot(x_values,regress_values,\"r-\")\n",
    "\n",
    "# Label plot and annotate the line equation\n",
    "plt.xlabel('Latitude')\n",
    "plt.ylabel('Temperature')\n",
    "plt.annotate(line_eq,(40,15),fontsize=15,color=\"red\")\n",
    "plt.grid(True)\n",
    "plt.title('Northern Hemisphere: Temperature vs. Latitude')\n",
    "\n",
    "# Print r value\n",
    "print(f\"The r-value is: {rvalue**2}\")\n",
    "\n",
    "# Show plot\n",
    "plt.show()\n",
    "plt.savefig(\"Images/Northern Hemisphere Temperature vs Latitude.png\")"
   ]
  },
  {
   "cell_type": "markdown",
   "metadata": {},
   "source": [
    "####  Southern Hemisphere - Max Temp vs. Latitude Linear Regression"
   ]
  },
  {
   "cell_type": "code",
   "execution_count": 231,
   "metadata": {},
   "outputs": [
    {
     "name": "stdout",
     "output_type": "stream",
     "text": [
      "The r-value is: 0.5166609837555883\n"
     ]
    },
    {
     "data": {
      "image/png": "[encoded data removed]",
      "text/plain": [
       "<Figure size 432x288 with 1 Axes>"
      ]
     },
     "metadata": {
      "needs_background": "light"
     },
     "output_type": "display_data"
    },
    {
     "data": {
      "text/plain": [
       "<Figure size 432x288 with 0 Axes>"
      ]
     },
     "metadata": {},
     "output_type": "display_data"
    }
   ],
   "source": [
    "#Set x and y intercept values\n",
    "x_values = south_hem['Lat']\n",
    "y_values = south_hem['Max Temp']\n",
    "\n",
    "# Perform a linear regression on temperature vs. latitude\n",
    "(slope, intercept, rvalue, pvalue, stderr) = stats.linregress(x_values, y_values)\n",
    "\n",
    "# Get regression values\n",
    "regress_values = x_values * slope + intercept\n",
    "\n",
    "# Create line equation string to add this to our plot\n",
    "line_eq = \"y = \" + str(round(slope,2)) + \"x +\" + str(round(intercept,2))\n",
    "# print(line_eq)\n",
    "\n",
    "#Create the plot\n",
    "plt.scatter(x_values,y_values)\n",
    "plt.plot(x_values,regress_values,\"r-\")\n",
    "\n",
    "# Label plot and annotate the line equation\n",
    "plt.xlabel('Latitude')\n",
    "plt.ylabel('Temperature')\n",
    "plt.annotate(line_eq,(-20,50),fontsize=15,color=\"red\")\n",
    "plt.grid(True)\n",
    "plt.title('Southern Hemisphere: Temperature vs. Latitude')\n",
    "plt.xlim(0,-50)\n",
    "# Print r value\n",
    "print(f\"The r-value is: {rvalue**2}\")\n",
    "\n",
    "# Show plot\n",
    "plt.show()\n",
    "plt.savefig(\"Images/Southern Hemisphere Temperature vs Latitude.png\")"
   ]
  },
  {
   "cell_type": "markdown",
   "metadata": {},
   "source": [
    "####  Northern Hemisphere - Humidity (%) vs. Latitude Linear Regression"
   ]
  },
  {
   "cell_type": "code",
   "execution_count": 232,
   "metadata": {},
   "outputs": [
    {
     "name": "stdout",
     "output_type": "stream",
     "text": [
      "The r-value is: 0.06546461817080144\n"
     ]
    },
    {
     "data": {
      "image/png": "[encoded data removed]",
      "text/plain": [
       "<Figure size 432x288 with 1 Axes>"
      ]
     },
     "metadata": {
      "needs_background": "light"
     },
     "output_type": "display_data"
    },
    {
     "data": {
      "text/plain": [
       "<Figure size 432x288 with 0 Axes>"
      ]
     },
     "metadata": {},
     "output_type": "display_data"
    }
   ],
   "source": [
    "#Set x and y intercept values\n",
    "x_values = north_hem['Lat']\n",
    "y_values = north_hem['Humidity']\n",
    "\n",
    "# Perform a linear regression on temperature vs. latitude\n",
    "(slope, intercept, rvalue, pvalue, stderr) = stats.linregress(x_values, y_values)\n",
    "\n",
    "# Get regression values\n",
    "regress_values = x_values * slope + intercept\n",
    "\n",
    "# Create line equation string to add this to our plot\n",
    "line_eq = \"y = \" + str(round(slope,2)) + \"x +\" + str(round(intercept,2))\n",
    "# print(line_eq)\n",
    "\n",
    "#Create the plot\n",
    "plt.scatter(x_values,y_values)\n",
    "plt.plot(x_values,regress_values,\"r-\")\n",
    "\n",
    "# Label plot and annotate the line equation\n",
    "plt.xlabel('Latitude')\n",
    "plt.ylabel('Humidity')\n",
    "plt.annotate(line_eq,(20,30),fontsize=15,color=\"red\")\n",
    "plt.grid(True)\n",
    "plt.title('Northern Hemisphere: Humidity vs. Latitude')\n",
    "\n",
    "# Print r value\n",
    "print(f\"The r-value is: {rvalue**2}\")\n",
    "\n",
    "# Show plot\n",
    "plt.show()\n",
    "plt.savefig(\"Images/Northern Hemisphere Humidity vs Latitude.png\")"
   ]
  },
  {
   "cell_type": "markdown",
   "metadata": {},
   "source": [
    "####  Southern Hemisphere - Humidity (%) vs. Latitude Linear Regression"
   ]
  },
  {
   "cell_type": "code",
   "execution_count": 233,
   "metadata": {},
   "outputs": [
    {
     "name": "stdout",
     "output_type": "stream",
     "text": [
      "The r-value is: 0.017474812019316253\n"
     ]
    },
    {
     "data": {
      "image/png": "[encoded data removed]",
      "text/plain": [
       "<Figure size 432x288 with 1 Axes>"
      ]
     },
     "metadata": {
      "needs_background": "light"
     },
     "output_type": "display_data"
    },
    {
     "data": {
      "text/plain": [
       "<Figure size 432x288 with 0 Axes>"
      ]
     },
     "metadata": {},
     "output_type": "display_data"
    }
   ],
   "source": [
    "#Set x and y intercept values\n",
    "x_values = south_hem['Lat']\n",
    "y_values = south_hem['Humidity']\n",
    "\n",
    "# Perform a linear regression on temperature vs. latitude\n",
    "(slope, intercept, rvalue, pvalue, stderr) = stats.linregress(x_values, y_values)\n",
    "\n",
    "# Get regression values\n",
    "regress_values = x_values * slope + intercept\n",
    "\n",
    "# Create line equation string to add this to our plot\n",
    "line_eq = \"y = \" + str(round(slope,2)) + \"x +\" + str(round(intercept,2))\n",
    "# print(line_eq)\n",
    "\n",
    "#Create the plot\n",
    "plt.scatter(x_values,y_values)\n",
    "plt.plot(x_values,regress_values,\"r-\")\n",
    "\n",
    "# Label plot and annotate the line equation\n",
    "plt.xlabel('Latitude')\n",
    "plt.ylabel('Humidity')\n",
    "plt.annotate(line_eq,(-30,25),fontsize=15,color=\"red\")\n",
    "plt.grid(True)\n",
    "plt.title('Southern Hemisphere: Humidity vs. Latitude')\n",
    "plt.xlim(-15,-45)\n",
    "# Print r value\n",
    "print(f\"The r-value is: {rvalue**2}\")\n",
    "\n",
    "# Show plot\n",
    "plt.show()\n",
    "plt.savefig(\"Images/Southern Hemisphere Humidity vs Latitude.png\")"
   ]
  },
  {
   "cell_type": "markdown",
   "metadata": {},
   "source": [
    "####  Northern Hemisphere - Cloudiness (%) vs. Latitude Linear Regression"
   ]
  },
  {
   "cell_type": "code",
   "execution_count": 234,
   "metadata": {},
   "outputs": [
    {
     "name": "stdout",
     "output_type": "stream",
     "text": [
      "The r-value is: 0.04591344552722723\n"
     ]
    },
    {
     "data": {
      "image/png": "[encoded data removed]",
      "text/plain": [
       "<Figure size 432x288 with 1 Axes>"
      ]
     },
     "metadata": {
      "needs_background": "light"
     },
     "output_type": "display_data"
    },
    {
     "data": {
      "text/plain": [
       "<Figure size 432x288 with 0 Axes>"
      ]
     },
     "metadata": {},
     "output_type": "display_data"
    }
   ],
   "source": [
    "#Set x and y intercept values\n",
    "x_values = north_hem['Lat']\n",
    "y_values = north_hem['Cloudiness']\n",
    "\n",
    "# Perform a linear regression on temperature vs. latitude\n",
    "(slope, intercept, rvalue, pvalue, stderr) = stats.linregress(x_values, y_values)\n",
    "\n",
    "# Get regression values\n",
    "regress_values = x_values * slope + intercept\n",
    "\n",
    "# Create line equation string to add this to our plot\n",
    "line_eq = \"y = \" + str(round(slope,2)) + \"x +\" + str(round(intercept,2))\n",
    "# print(line_eq)\n",
    "\n",
    "#Create the plot\n",
    "plt.scatter(x_values,y_values)\n",
    "plt.plot(x_values,regress_values,\"r-\")\n",
    "\n",
    "# Label plot and annotate the line equation\n",
    "plt.xlabel('Latitude')\n",
    "plt.ylabel('Cloudiness')\n",
    "plt.annotate(line_eq,(20,30),fontsize=15,color=\"red\")\n",
    "plt.grid(True)\n",
    "plt.title('Northern Hemisphere: Cloudiness vs. Latitude')\n",
    "\n",
    "# Print r value\n",
    "print(f\"The r-value is: {rvalue**2}\")\n",
    "\n",
    "# Show plot\n",
    "plt.show()\n",
    "plt.savefig(\"Images/Northern Hemisphere Cloudiness vs Latitude.png\")"
   ]
  },
  {
   "cell_type": "markdown",
   "metadata": {},
   "source": [
    "####  Southern Hemisphere - Cloudiness (%) vs. Latitude Linear Regression"
   ]
  },
  {
   "cell_type": "code",
   "execution_count": 235,
   "metadata": {},
   "outputs": [
    {
     "name": "stdout",
     "output_type": "stream",
     "text": [
      "The r-value is: 0.06045047092245057\n"
     ]
    },
    {
     "data": {
      "image/png": "[encoded data removed]",
      "text/plain": [
       "<Figure size 432x288 with 1 Axes>"
      ]
     },
     "metadata": {
      "needs_background": "light"
     },
     "output_type": "display_data"
    },
    {
     "data": {
      "text/plain": [
       "<Figure size 432x288 with 0 Axes>"
      ]
     },
     "metadata": {},
     "output_type": "display_data"
    }
   ],
   "source": [
    "#Set x and y intercept values\n",
    "x_values = south_hem['Lat']\n",
    "y_values = south_hem['Cloudiness']\n",
    "\n",
    "# Perform a linear regression on temperature vs. latitude\n",
    "(slope, intercept, rvalue, pvalue, stderr) = stats.linregress(x_values, y_values)\n",
    "\n",
    "# Get regression values\n",
    "regress_values = x_values * slope + intercept\n",
    "\n",
    "# Create line equation string to add this to our plot\n",
    "line_eq = \"y = \" + str(round(slope,2)) + \"x +\" + str(round(intercept,2))\n",
    "# print(line_eq)\n",
    "\n",
    "#Create the plot\n",
    "plt.scatter(x_values,y_values)\n",
    "plt.plot(x_values,regress_values,\"r-\")\n",
    "\n",
    "# Label plot and annotate the line equation\n",
    "plt.xlabel('Latitude')\n",
    "plt.ylabel('Cloudiness')\n",
    "plt.annotate(line_eq,(-30,20),fontsize=15,color=\"red\")\n",
    "plt.grid(True)\n",
    "plt.title('Southern Hemisphere: Cloudiness vs. Latitude')\n",
    "plt.xlim(0,-50)\n",
    "# Print r value\n",
    "print(f\"The r-value is: {rvalue**2}\")\n",
    "\n",
    "# Show plot\n",
    "plt.show()\n",
    "plt.savefig(\"Images/Southern Hemisphere Cloudiness vs Latitude.png\")"
   ]
  },
  {
   "cell_type": "markdown",
   "metadata": {},
   "source": [
    "####  Northern Hemisphere - Wind Speed (mph) vs. Latitude Linear Regression"
   ]
  },
  {
   "cell_type": "code",
   "execution_count": 236,
   "metadata": {},
   "outputs": [
    {
     "name": "stdout",
     "output_type": "stream",
     "text": [
      "The r-value is: 0.02355063425040989\n"
     ]
    },
    {
     "data": {
      "image/png": "[encoded data removed]",
      "text/plain": [
       "<Figure size 432x288 with 1 Axes>"
      ]
     },
     "metadata": {
      "needs_background": "light"
     },
     "output_type": "display_data"
    },
    {
     "data": {
      "text/plain": [
       "<Figure size 432x288 with 0 Axes>"
      ]
     },
     "metadata": {},
     "output_type": "display_data"
    }
   ],
   "source": [
    "#Set x and y intercept values\n",
    "x_values = north_hem['Lat']\n",
    "y_values = north_hem['Wind Speed']\n",
    "\n",
    "# Perform a linear regression on temperature vs. latitude\n",
    "(slope, intercept, rvalue, pvalue, stderr) = stats.linregress(x_values, y_values)\n",
    "\n",
    "# Get regression values\n",
    "regress_values = x_values * slope + intercept\n",
    "\n",
    "# Create line equation string to add this to our plot\n",
    "line_eq = \"y = \" + str(round(slope,2)) + \"x +\" + str(round(intercept,2))\n",
    "# print(line_eq)\n",
    "\n",
    "#Create the plot\n",
    "plt.scatter(x_values,y_values)\n",
    "plt.plot(x_values,regress_values,\"r-\")\n",
    "\n",
    "# Label plot and annotate the line equation\n",
    "plt.xlabel('Latitude')\n",
    "plt.ylabel('Wind Speed')\n",
    "plt.annotate(line_eq,(10,20),fontsize=15,color=\"red\")\n",
    "plt.grid(True)\n",
    "plt.title('Northern Hemisphere: Wind Speed vs. Latitude')\n",
    "\n",
    "# Print r value\n",
    "print(f\"The r-value is: {rvalue**2}\")\n",
    "\n",
    "# Show plot\n",
    "plt.show()\n",
    "plt.savefig(\"Images/Northern Hemisphere Wind Speed vs Latitude.png\")"
   ]
  },
  {
   "cell_type": "markdown",
   "metadata": {},
   "source": [
    "####  Southern Hemisphere - Wind Speed (mph) vs. Latitude Linear Regression"
   ]
  },
  {
   "cell_type": "code",
   "execution_count": 237,
   "metadata": {},
   "outputs": [
    {
     "name": "stdout",
     "output_type": "stream",
     "text": [
      "The r-value is: 0.092098074639679\n"
     ]
    },
    {
     "data": {
      "image/png": "[encoded data removed]",
      "text/plain": [
       "<Figure size 432x288 with 1 Axes>"
      ]
     },
     "metadata": {
      "needs_background": "light"
     },
     "output_type": "display_data"
    },
    {
     "data": {
      "text/plain": [
       "<Figure size 432x288 with 0 Axes>"
      ]
     },
     "metadata": {},
     "output_type": "display_data"
    }
   ],
   "source": [
    "#Set x and y intercept values\n",
    "x_values = south_hem['Lat']\n",
    "y_values = south_hem['Wind Speed']\n",
    "\n",
    "# Perform a linear regression on temperature vs. latitude\n",
    "(slope, intercept, rvalue, pvalue, stderr) = stats.linregress(x_values, y_values)\n",
    "\n",
    "# Get regression values\n",
    "regress_values = x_values * slope + intercept\n",
    "\n",
    "# Create line equation string to add this to our plot\n",
    "line_eq = \"y = \" + str(round(slope,2)) + \"x +\" + str(round(intercept,2))\n",
    "# print(line_eq)\n",
    "\n",
    "#Create the plot\n",
    "plt.scatter(x_values,y_values)\n",
    "plt.plot(x_values,regress_values,\"r-\")\n",
    "\n",
    "# Label plot and annotate the line equation\n",
    "plt.xlabel('Latitude')\n",
    "plt.ylabel('Wind Speed')\n",
    "plt.annotate(line_eq,(-30,15),fontsize=15,color=\"red\")\n",
    "plt.grid(True)\n",
    "plt.title('Southern Hemisphere: Wind Speed vs. Latitude')\n",
    "plt.xlim(-15,-45)\n",
    "# Print r value\n",
    "print(f\"The r-value is: {rvalue**2}\")\n",
    "\n",
    "# Show plot\n",
    "plt.show()\n",
    "plt.savefig(\"Images/Southern Hemisphere Wind Speed vs Latitude.png\")"
   ]
  },
  {
   "cell_type": "code",
   "execution_count": null,
   "metadata": {},
   "outputs": [],
   "source": []
  },
  {
   "cell_type": "code",
   "execution_count": null,
   "metadata": {},
   "outputs": [],
   "source": []
  }
 ],
 "metadata": {
  "anaconda-cloud": {},
  "kernel_info": {
   "name": "python3"
  },
  "kernelspec": {
   "display_name": "Python 3",
   "language": "python",
   "name": "python3"
  },
  "language_info": {
   "codemirror_mode": {
    "name": "ipython",
    "version": 3
   },
   "file_extension": ".py",
   "mimetype": "text/x-python",
   "name": "python",
   "nbconvert_exporter": "python",
   "pygments_lexer": "ipython3",
   "version": "3.6.13"
  },
  "latex_envs": {
   "LaTeX_envs_menu_present": true,
   "autoclose": false,
   "autocomplete": true,
   "bibliofile": "biblio.bib",
   "cite_by": "apalike",
   "current_citInitial": 1,
   "eqLabelWithNumbers": true,
   "eqNumInitial": 1,
   "hotkeys": {
    "equation": "Ctrl-E",
    "itemize": "Ctrl-I"
   },
   "labels_anchors": false,
   "latex_user_defs": false,
   "report_style_numbering": false,
   "user_envs_cfg": false
  },
  "nteract": {
   "version": "0.12.3"
  }
 },
 "nbformat": 4,
 "nbformat_minor": 2
}
